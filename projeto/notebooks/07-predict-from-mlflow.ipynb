{
 "cells": [
  {
   "cell_type": "markdown",
   "id": "3a4dc596",
   "metadata": {},
   "source": [
    "# 0. Imports"
   ]
  },
  {
   "cell_type": "code",
   "execution_count": 1,
   "id": "25e0a813",
   "metadata": {},
   "outputs": [],
   "source": [
    "import sys\n",
    "sys.path.insert(0, '../src/')\n",
    "\n",
    "import mlflow\n",
    "from predict.predict import Predict\n"
   ]
  },
  {
   "cell_type": "markdown",
   "id": "6ac519e6",
   "metadata": {},
   "source": [
    "# 1. Predictions"
   ]
  },
  {
   "cell_type": "code",
   "execution_count": 2,
   "id": "8d410aad",
   "metadata": {},
   "outputs": [],
   "source": [
    "import pandas as pd\n",
    "df_test = pd.read_csv('../data/raw/test.csv')"
   ]
  },
  {
   "cell_type": "code",
   "execution_count": 3,
   "id": "5445b674",
   "metadata": {},
   "outputs": [],
   "source": [
    "pred = Predict(df_test)"
   ]
  },
  {
   "cell_type": "code",
   "execution_count": 4,
   "id": "7801bdd4",
   "metadata": {},
   "outputs": [
    {
     "name": "stdout",
     "output_type": "stream",
     "text": [
      "\u001b[2m2025-05-20 21:40:12\u001b[0m [\u001b[32m\u001b[1minfo     \u001b[0m] \u001b[1mIniciando a precição...       \u001b[0m\n",
      "\u001b[2m2025-05-20 21:40:14\u001b[0m [\u001b[32m\u001b[1minfo     \u001b[0m] \u001b[1mPredições finalizadas.        \u001b[0m\n",
      "\u001b[2m2025-05-20 21:40:14\u001b[0m [\u001b[32m\u001b[1minfo     \u001b[0m] \u001b[1mSalvando as probabildiades... \u001b[0m\n",
      "\u001b[2m2025-05-20 21:40:14\u001b[0m [\u001b[32m\u001b[1minfo     \u001b[0m] \u001b[1mResultados salvos na base de dados.\u001b[0m\n"
     ]
    }
   ],
   "source": [
    "results = pred.run()"
   ]
  },
  {
   "cell_type": "code",
   "execution_count": 5,
   "id": "ad420d67",
   "metadata": {},
   "outputs": [
    {
     "data": {
      "text/html": [
       "<div>\n",
       "<style scoped>\n",
       "    .dataframe tbody tr th:only-of-type {\n",
       "        vertical-align: middle;\n",
       "    }\n",
       "\n",
       "    .dataframe tbody tr th {\n",
       "        vertical-align: top;\n",
       "    }\n",
       "\n",
       "    .dataframe thead th {\n",
       "        text-align: right;\n",
       "    }\n",
       "</style>\n",
       "<table border=\"1\" class=\"dataframe\">\n",
       "  <thead>\n",
       "    <tr style=\"text-align: right;\">\n",
       "      <th></th>\n",
       "      <th>probabilidade_default</th>\n",
       "    </tr>\n",
       "  </thead>\n",
       "  <tbody>\n",
       "    <tr>\n",
       "      <th>0</th>\n",
       "      <td>0.094695</td>\n",
       "    </tr>\n",
       "    <tr>\n",
       "      <th>1</th>\n",
       "      <td>0.093030</td>\n",
       "    </tr>\n",
       "    <tr>\n",
       "      <th>2</th>\n",
       "      <td>0.024679</td>\n",
       "    </tr>\n",
       "    <tr>\n",
       "      <th>3</th>\n",
       "      <td>0.115495</td>\n",
       "    </tr>\n",
       "    <tr>\n",
       "      <th>4</th>\n",
       "      <td>0.200851</td>\n",
       "    </tr>\n",
       "    <tr>\n",
       "      <th>...</th>\n",
       "      <td>...</td>\n",
       "    </tr>\n",
       "    <tr>\n",
       "      <th>101498</th>\n",
       "      <td>0.088491</td>\n",
       "    </tr>\n",
       "    <tr>\n",
       "      <th>101499</th>\n",
       "      <td>0.327141</td>\n",
       "    </tr>\n",
       "    <tr>\n",
       "      <th>101500</th>\n",
       "      <td>0.014003</td>\n",
       "    </tr>\n",
       "    <tr>\n",
       "      <th>101501</th>\n",
       "      <td>0.041068</td>\n",
       "    </tr>\n",
       "    <tr>\n",
       "      <th>101502</th>\n",
       "      <td>0.066919</td>\n",
       "    </tr>\n",
       "  </tbody>\n",
       "</table>\n",
       "<p>101503 rows × 1 columns</p>\n",
       "</div>"
      ],
      "text/plain": [
       "        probabilidade_default\n",
       "0                    0.094695\n",
       "1                    0.093030\n",
       "2                    0.024679\n",
       "3                    0.115495\n",
       "4                    0.200851\n",
       "...                       ...\n",
       "101498               0.088491\n",
       "101499               0.327141\n",
       "101500               0.014003\n",
       "101501               0.041068\n",
       "101502               0.066919\n",
       "\n",
       "[101503 rows x 1 columns]"
      ]
     },
     "execution_count": 5,
     "metadata": {},
     "output_type": "execute_result"
    }
   ],
   "source": [
    "results"
   ]
  }
 ],
 "metadata": {
  "kernelspec": {
   "display_name": "mlflow_env",
   "language": "python",
   "name": "python3"
  },
  "language_info": {
   "codemirror_mode": {
    "name": "ipython",
    "version": 3
   },
   "file_extension": ".py",
   "mimetype": "text/x-python",
   "name": "python",
   "nbconvert_exporter": "python",
   "pygments_lexer": "ipython3",
   "version": "3.10.12"
  }
 },
 "nbformat": 4,
 "nbformat_minor": 5
}
