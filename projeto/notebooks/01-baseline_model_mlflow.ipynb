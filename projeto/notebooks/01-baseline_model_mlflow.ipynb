{
 "cells": [
  {
   "cell_type": "markdown",
   "id": "648e2750",
   "metadata": {},
   "source": [
    "# 0. Imports"
   ]
  },
  {
   "cell_type": "code",
   "execution_count": 7,
   "id": "6f46236d",
   "metadata": {},
   "outputs": [],
   "source": [
    "import sys\n",
    "import joblib\n",
    "sys.path.insert(0, '../src/')\n",
    "\n",
    "from sklearn.pipeline import Pipeline\n",
    "from feature_engine.imputation import MeanMedianImputer\n",
    "from feature_engine.wrappers import SklearnTransformerWrapper\n",
    "from feature_engine.discretisation import EqualFrequencyDiscretiser, EqualWidthDiscretiser\n",
    "from sklearn.preprocessing import RobustScaler, StandardScaler\n",
    "from sklearn.linear_model import LogisticRegression\n",
    "\n",
    "from utils.utils import load_config_file\n",
    "from data.data_load import DataLoad\n",
    "from data.data_validation import DataValidation\n",
    "from data.data_transformation import DataTransformation\n",
    "from data.data_preprocess import DataPreprocess\n",
    "from train.train import TrainModels\n",
    "from evaluation.classifier_eval import ModelEvaluation"
   ]
  },
  {
   "cell_type": "markdown",
   "id": "51d4e88a",
   "metadata": {},
   "source": [
    "# 1. Data Load"
   ]
  },
  {
   "cell_type": "code",
   "execution_count": 2,
   "id": "eda01a5a",
   "metadata": {},
   "outputs": [
    {
     "name": "stdout",
     "output_type": "stream",
     "text": [
      "\u001b[2m2025-05-13 07:53:11\u001b[0m [\u001b[32m\u001b[1minfo     \u001b[0m] \u001b[1mComeçando a carga dos dados com o nome: train_dataset_name\u001b[0m\n"
     ]
    }
   ],
   "source": [
    "dl = DataLoad()\n",
    "df = dl.load_data('train_dataset_name')"
   ]
  },
  {
   "cell_type": "markdown",
   "id": "9d6ecc25",
   "metadata": {},
   "source": [
    "# 2. Data Validation"
   ]
  },
  {
   "cell_type": "code",
   "execution_count": 3,
   "id": "e00b9b35",
   "metadata": {},
   "outputs": [
    {
     "name": "stdout",
     "output_type": "stream",
     "text": [
      "\u001b[2m2025-05-13 07:53:13\u001b[0m [\u001b[32m\u001b[1minfo     \u001b[0m] \u001b[1mValidacao iniciou             \u001b[0m\n",
      "\u001b[2m2025-05-13 07:53:13\u001b[0m [\u001b[32m\u001b[1minfo     \u001b[0m] \u001b[1mValidation columns passed...  \u001b[0m\n",
      "\u001b[2m2025-05-13 07:53:13\u001b[0m [\u001b[32m\u001b[1minfo     \u001b[0m] \u001b[1mValidacao com sucesso.        \u001b[0m\n"
     ]
    }
   ],
   "source": [
    "dv = DataValidation()\n",
    "is_valid = dv.run(df)"
   ]
  },
  {
   "cell_type": "markdown",
   "id": "cafed6e7",
   "metadata": {},
   "source": [
    "# 3. Data Transformation"
   ]
  },
  {
   "cell_type": "code",
   "execution_count": 4,
   "id": "a9e8d9a5",
   "metadata": {},
   "outputs": [],
   "source": [
    "dt = DataTransformation(df)\n",
    "X_train, X_valid, y_train, y_valid = dt.train_test_spliting()"
   ]
  },
  {
   "cell_type": "markdown",
   "id": "b1275f2b",
   "metadata": {},
   "source": [
    "# 4. Experimentations "
   ]
  },
  {
   "cell_type": "code",
   "execution_count": 5,
   "id": "eba0bb5e",
   "metadata": {},
   "outputs": [],
   "source": [
    "import mlflow\n",
    "from mlflow.tracking import MlflowClient"
   ]
  },
  {
   "cell_type": "code",
   "execution_count": 6,
   "id": "ddba040a",
   "metadata": {},
   "outputs": [
    {
     "name": "stderr",
     "output_type": "stream",
     "text": [
      "2025/05/13 07:54:23 INFO mlflow.tracking.fluent: Experiment with name 'prob_loan' does not exist. Creating a new experiment.\n"
     ]
    },
    {
     "data": {
      "text/plain": [
       "<Experiment: artifact_location='mlflow-artifacts:/1', creation_time=1747133663728, experiment_id='1', last_update_time=1747133663728, lifecycle_stage='active', name='prob_loan', tags={}>"
      ]
     },
     "execution_count": 6,
     "metadata": {},
     "output_type": "execute_result"
    }
   ],
   "source": [
    "mlflow.set_tracking_uri('http://127.0.0.1:5000')\n",
    "mlflow.set_experiment('prob_loan')"
   ]
  },
  {
   "cell_type": "code",
   "execution_count": 12,
   "id": "d613a8f5",
   "metadata": {},
   "outputs": [
    {
     "name": "stdout",
     "output_type": "stream",
     "text": [
      "\u001b[2m2025-05-13 08:29:23\u001b[0m [\u001b[32m\u001b[1minfo     \u001b[0m] \u001b[1mPreprocessamento iniciou...   \u001b[0m\n",
      "\u001b[2m2025-05-13 08:29:23\u001b[0m [\u001b[32m\u001b[1minfo     \u001b[0m] \u001b[1mTransformação dos dados com preprocessador iniciou...\u001b[0m\n",
      "\u001b[2m2025-05-13 08:29:24\u001b[0m [\u001b[32m\u001b[1minfo     \u001b[0m] \u001b[1mTransformação dos dados com preprocessador iniciou...\u001b[0m\n",
      "\u001b[2m2025-05-13 08:29:24\u001b[0m [\u001b[32m\u001b[1minfo     \u001b[0m] \u001b[1mIniciou a validação cruzada...\u001b[0m\n",
      "\u001b[2m2025-05-13 08:29:37\u001b[0m [\u001b[32m\u001b[1minfo     \u001b[0m] \u001b[1mIniciou a validação do modelo \u001b[0m\n"
     ]
    },
    {
     "name": "stderr",
     "output_type": "stream",
     "text": [
      "\u001b[31m2025/05/13 08:29:43 WARNING mlflow.models.model: Model logged without a signature and input example. Please set `input_example` parameter when logging the model to auto infer the model signature.\u001b[0m\n"
     ]
    },
    {
     "name": "stdout",
     "output_type": "stream",
     "text": [
      "🏃 View run baseline at: http://127.0.0.1:5000/#/experiments/1/runs/14b0108dc5d34315b94cc6cc5a40aa71\n",
      "🧪 View experiment at: http://127.0.0.1:5000/#/experiments/1\n"
     ]
    }
   ],
   "source": [
    "with mlflow.start_run(run_name='baseline'):\n",
    "    mlflow.set_tag('model_name', 'lr_baseline')\n",
    "\n",
    "    # 1. etapa preprocessar os dados \n",
    "    pipe = Pipeline([\n",
    "        ('imputer', MeanMedianImputer(variables=load_config_file().get('vars_imputer'))),\n",
    "        ('scaler', SklearnTransformerWrapper(StandardScaler()))\n",
    "    ])\n",
    "    preprocessador = DataPreprocess(pipe)\n",
    "    preprocessador.train(X_train)\n",
    "\n",
    "    X_train_processed = preprocessador.transform(X_train)\n",
    "    X_valid_processed = preprocessador.transform(X_valid)\n",
    "    joblib.dump(preprocessador, '../models/preprocess.joblib')\n",
    "\n",
    "    ## 1.1. logar um artefato (preprocessador)\n",
    "    mlflow.log_artifact('../models/preprocess.joblib')\n",
    "\n",
    "    ## 1.2. logar os parametros do preprocessador\n",
    "    mlflow.log_params(params={'imputer': pipe['imputer'], 'scaler': pipe['scaler']})\n",
    "\n",
    "    # 2. Inicia o exprimento com cross validation\n",
    "    model = LogisticRegression()\n",
    "    model_eval = ModelEvaluation(model,\n",
    "                                 X_train_processed,\n",
    "                                 y_train,\n",
    "                                 n_splits=5)\n",
    "    roc_auc_scores = model_eval.cross_val_evaluate()\n",
    "    \n",
    "    ## 2.1. logar o resultado da performance\n",
    "    mlflow.log_metric('train_roc_auc', roc_auc_scores.mean())\n",
    "\n",
    "    # 3. Treinar o modelo\n",
    "    model.fit(X_train_processed, y_train)\n",
    "\n",
    "    # 4. Salvar as metricas de validacao do modelo\n",
    "    y_val_preds = model_eval.model.predict_proba(X_valid_processed)[:, 1]\n",
    "    val_roc_auc = model_eval.evaluate_predictions(y_valid, y_val_preds)\n",
    "\n",
    "    mlflow.log_metric('valid_roc_auc', val_roc_auc)\n",
    "\n",
    "    # 5. Logar o modelo\n",
    "    mlflow.sklearn.log_model(model, 'lr_model', pyfunc_predict_fn='predict_proba')\n",
    "\n",
    "    mlflow.end_run()\n"
   ]
  },
  {
   "cell_type": "markdown",
   "id": "813d4913",
   "metadata": {},
   "source": [
    "## 4.1. Experiment 01"
   ]
  },
  {
   "cell_type": "code",
   "execution_count": 13,
   "id": "7fa105cc",
   "metadata": {},
   "outputs": [],
   "source": [
    "from mlflow.models import MetricThreshold\n",
    "from sklearn.dummy import DummyClassifier\n",
    "from mlflow.models import infer_signature"
   ]
  },
  {
   "cell_type": "code",
   "execution_count": null,
   "id": "c3f9c213",
   "metadata": {},
   "outputs": [
    {
     "name": "stdout",
     "output_type": "stream",
     "text": [
      "\u001b[2m2025-05-13 08:54:17\u001b[0m [\u001b[32m\u001b[1minfo     \u001b[0m] \u001b[1mPreprocessamento iniciou...   \u001b[0m\n",
      "\u001b[2m2025-05-13 08:54:17\u001b[0m [\u001b[32m\u001b[1minfo     \u001b[0m] \u001b[1mTransformação dos dados com preprocessador iniciou...\u001b[0m\n",
      "\u001b[2m2025-05-13 08:54:17\u001b[0m [\u001b[32m\u001b[1minfo     \u001b[0m] \u001b[1mTransformação dos dados com preprocessador iniciou...\u001b[0m\n",
      "\u001b[2m2025-05-13 08:54:17\u001b[0m [\u001b[32m\u001b[1minfo     \u001b[0m] \u001b[1mIniciou a validação cruzada...\u001b[0m\n"
     ]
    }
   ],
   "source": [
    "with mlflow.start_run(run_name='with_discretizer'):\n",
    "    mlflow.set_tag('model_name', 'lr_discretizer')\n",
    "\n",
    "    # 1. etapa preprocessar os dados \n",
    "    pipe = Pipeline([\n",
    "        ('imputer', MeanMedianImputer(variables=load_config_file().get('vars_imputer'))),\n",
    "        ('discretizer', EqualFrequencyDiscretiser(variables=load_config_file().get('vars_discretizer'))),\n",
    "        ('scaler', SklearnTransformerWrapper(StandardScaler()))\n",
    "    ])\n",
    "    preprocessador = DataPreprocess(pipe)\n",
    "    preprocessador.train(X_train)\n",
    "\n",
    "    X_train_processed = preprocessador.transform(X_train)\n",
    "    X_valid_processed = preprocessador.transform(X_valid)\n",
    "    joblib.dump(preprocessador, '../models/preprocess.joblib')\n",
    "\n",
    "    ## 1.1. logar um artefato (preprocessador)\n",
    "    mlflow.log_artifact('../models/preprocess.joblib')\n",
    "\n",
    "    ## 1.2. logar os parametros do preprocessador\n",
    "    mlflow.log_params(params={'imputer': pipe['imputer'], 'discretizer': pipe['discretizer'], 'scaler': pipe['scaler']})\n",
    "\n",
    "    # 2. Inicia o exprimento com cross validation\n",
    "    model = LogisticRegression()\n",
    "    model_eval = ModelEvaluation(model,\n",
    "                                 X_train_processed,\n",
    "                                 y_train,\n",
    "                                 n_splits=5)\n",
    "    roc_auc_scores = model_eval.cross_val_evaluate()\n",
    "    \n",
    "    ## 2.1. logar o resultado da performance\n",
    "    mlflow.log_metric('train_roc_auc', roc_auc_scores.mean())\n",
    "\n",
    "    # 3. Treinar o modelo\n",
    "    model.fit(X_train_processed, y_train)\n",
    "\n",
    "    # 4. Salvar as metricas de validacao do modelo\n",
    "    y_val_preds = model_eval.model.predict_proba(X_valid_processed)[:, 1]\n",
    "    val_roc_auc = model_eval.evaluate_predictions(y_valid, y_val_preds)\n",
    "\n",
    "    mlflow.log_metric('valid_roc_auc', val_roc_auc)\n",
    "\n",
    "    # 5. Logar o modelo\n",
    "    candidate_model_uri = mlflow.sklearn.log_model(model, 'lr_model').model_uri\n",
    "    \n",
    "    #===============================================================================\n",
    "    signature = infer_signature(X_valid_processed, y_valid)\n",
    "\n",
    "    eval_data = X_valid_processed\n",
    "    eval_data['label'] = y_valid\n",
    "\n",
    "    thresholds = {\n",
    "        \"accuracy_score\": MetricThreshold(\n",
    "            threshold=0.7, # o score da acuracia precisar ser > 0.7 para modelo ser logado\n",
    "            min_absolute_change=0.05,\n",
    "            min_relative_change=0.05,\n",
    "            greater_is_better=True\n",
    "        )\n",
    "    }\n",
    "    \n",
    "    baseline_model = DummyClassifier(strategy='uniform').fit(X_train_processed, y_train)\n",
    "    baseline_model_uri = mlflow.sklearn.log_model(baseline_model, 'baseline_model', signature=signature).model_uri\n",
    "\n",
    "    # processo responsavel por avaliar o modelo do mlflow\n",
    "    mlflow.evaluate(candidate_model_uri,\n",
    "                    eval_data,\n",
    "                    targets='label',\n",
    "                    model_type='classifier',\n",
    "                    validation_thresholds=thresholds,\n",
    "                    baseline_model=baseline_model_uri)\n",
    "\n",
    "    # explicabilidade do modelo com SHAP\n",
    "    mlflow.shap.log_explanation(model.predict, X_valid_processed.drop('label', axis=1))\n",
    "\n",
    "    mlflow.end_run()\n"
   ]
  },
  {
   "cell_type": "code",
   "execution_count": null,
   "id": "0d8c225d",
   "metadata": {},
   "outputs": [],
   "source": []
  }
 ],
 "metadata": {
  "kernelspec": {
   "display_name": "mlflow_env",
   "language": "python",
   "name": "python3"
  },
  "language_info": {
   "codemirror_mode": {
    "name": "ipython",
    "version": 3
   },
   "file_extension": ".py",
   "mimetype": "text/x-python",
   "name": "python",
   "nbconvert_exporter": "python",
   "pygments_lexer": "ipython3",
   "version": "3.10.12"
  }
 },
 "nbformat": 4,
 "nbformat_minor": 5
}
