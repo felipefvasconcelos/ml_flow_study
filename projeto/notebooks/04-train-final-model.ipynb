{
 "cells": [
  {
   "cell_type": "markdown",
   "id": "b68fd9d3",
   "metadata": {},
   "source": [
    "# 0. Imports"
   ]
  },
  {
   "cell_type": "code",
   "execution_count": 1,
   "id": "ca7d0360",
   "metadata": {},
   "outputs": [],
   "source": [
    "import sys\n",
    "sys.path.insert(0, '../src/')\n",
    "\n",
    "from utils.utils import load_config_file\n",
    "from data.data_load import DataLoad\n",
    "from data.data_validation import DataValidation\n",
    "from data.data_transformation import DataTransformation\n",
    "from data.data_preprocess import DataPreprocess\n",
    "from train.train import TrainModels\n",
    "from evaluation.classifier_eval import ModelEvaluation"
   ]
  },
  {
   "cell_type": "markdown",
   "id": "f1b39e16",
   "metadata": {},
   "source": [
    "# 1. Data Load"
   ]
  },
  {
   "cell_type": "code",
   "execution_count": 2,
   "id": "90929343",
   "metadata": {},
   "outputs": [
    {
     "name": "stdout",
     "output_type": "stream",
     "text": [
      "\u001b[2m2025-05-19 21:31:56\u001b[0m [\u001b[32m\u001b[1minfo     \u001b[0m] \u001b[1mComeçando a carga dos dados com o nome: train_dataset_name\u001b[0m\n"
     ]
    }
   ],
   "source": [
    "dl = DataLoad()\n",
    "df = dl.load_data('train_dataset_name')"
   ]
  },
  {
   "cell_type": "markdown",
   "id": "3f95acb6",
   "metadata": {},
   "source": [
    "# 2. Data Validation"
   ]
  },
  {
   "cell_type": "code",
   "execution_count": 3,
   "id": "0c5e57aa",
   "metadata": {},
   "outputs": [
    {
     "name": "stdout",
     "output_type": "stream",
     "text": [
      "\u001b[2m2025-05-19 21:31:56\u001b[0m [\u001b[32m\u001b[1minfo     \u001b[0m] \u001b[1mValidacao iniciou             \u001b[0m\n",
      "\u001b[2m2025-05-19 21:31:56\u001b[0m [\u001b[32m\u001b[1minfo     \u001b[0m] \u001b[1mValidation columns passed...  \u001b[0m\n",
      "\u001b[2m2025-05-19 21:31:56\u001b[0m [\u001b[32m\u001b[1minfo     \u001b[0m] \u001b[1mValidacao com sucesso.        \u001b[0m\n"
     ]
    }
   ],
   "source": [
    "dv = DataValidation()\n",
    "is_valid = dv.run(df)"
   ]
  },
  {
   "cell_type": "markdown",
   "id": "ed3941d4",
   "metadata": {},
   "source": [
    "# 3. Data Transformation"
   ]
  },
  {
   "cell_type": "code",
   "execution_count": 4,
   "id": "d5574f55",
   "metadata": {},
   "outputs": [],
   "source": [
    "dt = DataTransformation(df)\n",
    "X_train, X_valid, y_train, y_valid = dt.train_test_spliting()"
   ]
  },
  {
   "cell_type": "markdown",
   "id": "cf84b677",
   "metadata": {},
   "source": [
    "# 4. Train Models"
   ]
  },
  {
   "cell_type": "code",
   "execution_count": 5,
   "id": "eac56f23",
   "metadata": {},
   "outputs": [
    {
     "name": "stdout",
     "output_type": "stream",
     "text": [
      "\u001b[2m2025-05-19 21:31:56\u001b[0m [\u001b[32m\u001b[1minfo     \u001b[0m] \u001b[1mObtendo o melhor modelo do MLFlow\u001b[0m\n",
      "\u001b[2m2025-05-19 21:31:56\u001b[0m [\u001b[32m\u001b[1minfo     \u001b[0m] \u001b[1mIniciando o treinamento do modelo: modelo.joblib\u001b[0m\n"
     ]
    },
    {
     "name": "stderr",
     "output_type": "stream",
     "text": [
      "/home/felipe/miniconda3/envs/mlflow_env/lib/python3.10/site-packages/sklearn/linear_model/_logistic.py:1247: FutureWarning: 'multi_class' was deprecated in version 1.5 and will be removed in 1.7. From then on, it will always use 'multinomial'. Leave it to its default value to avoid this warning.\n",
      "  warnings.warn(\n"
     ]
    },
    {
     "name": "stdout",
     "output_type": "stream",
     "text": [
      "\u001b[2m2025-05-19 21:31:57\u001b[0m [\u001b[32m\u001b[1minfo     \u001b[0m] \u001b[1mIniciou a validação do modelo \u001b[0m\n"
     ]
    },
    {
     "name": "stderr",
     "output_type": "stream",
     "text": [
      "/home/felipe/miniconda3/envs/mlflow_env/lib/python3.10/site-packages/mlflow/types/utils.py:452: UserWarning: Hint: Inferred schema contains integer column(s). Integer columns in Python cannot represent missing values. If your input data contains missing values at inference time, it will be encoded as floats and will cause a schema enforcement error. The best way to avoid this problem is to infer the model schema based on a realistic data sample (training dataset) that includes missing values. Alternatively, you can declare integer columns as doubles (float64) whenever these columns may have missing values. See `Handling Integers With Missing Values <https://www.mlflow.org/docs/latest/models.html#handling-integers-with-missing-values>`_ for more details.\n",
      "  warnings.warn(\n",
      "/home/felipe/miniconda3/envs/mlflow_env/lib/python3.10/site-packages/mlflow/types/utils.py:452: UserWarning: Hint: Inferred schema contains integer column(s). Integer columns in Python cannot represent missing values. If your input data contains missing values at inference time, it will be encoded as floats and will cause a schema enforcement error. The best way to avoid this problem is to infer the model schema based on a realistic data sample (training dataset) that includes missing values. Alternatively, you can declare integer columns as doubles (float64) whenever these columns may have missing values. See `Handling Integers With Missing Values <https://www.mlflow.org/docs/latest/models.html#handling-integers-with-missing-values>`_ for more details.\n",
      "  warnings.warn(\n",
      "Successfully registered model 'modelo.joblib'.\n",
      "2025/05/19 21:32:01 INFO mlflow.store.model_registry.abstract_store: Waiting up to 300 seconds for model version to finish creation. Model name: modelo.joblib, version 1\n"
     ]
    },
    {
     "name": "stdout",
     "output_type": "stream",
     "text": [
      "🏃 View run final_model at: http://127.0.0.1:5000/#/experiments/1/runs/b2fb981cd68d4f1cbd8bdb34bb5ff733\n",
      "🧪 View experiment at: http://127.0.0.1:5000/#/experiments/1\n"
     ]
    },
    {
     "name": "stderr",
     "output_type": "stream",
     "text": [
      "Created version '1' of model 'modelo.joblib'.\n"
     ]
    }
   ],
   "source": [
    "tm = TrainModels(X_train, y_train)\n",
    "tm.run()"
   ]
  },
  {
   "cell_type": "code",
   "execution_count": null,
   "id": "92745e76",
   "metadata": {},
   "outputs": [],
   "source": []
  }
 ],
 "metadata": {
  "kernelspec": {
   "display_name": "mlflow_env",
   "language": "python",
   "name": "python3"
  },
  "language_info": {
   "codemirror_mode": {
    "name": "ipython",
    "version": 3
   },
   "file_extension": ".py",
   "mimetype": "text/x-python",
   "name": "python",
   "nbconvert_exporter": "python",
   "pygments_lexer": "ipython3",
   "version": "3.10.12"
  }
 },
 "nbformat": 4,
 "nbformat_minor": 5
}
