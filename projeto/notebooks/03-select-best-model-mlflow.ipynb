{
 "cells": [
  {
   "cell_type": "markdown",
   "id": "648e2750",
   "metadata": {},
   "source": [
    "# 0. Imports"
   ]
  },
  {
   "cell_type": "code",
   "execution_count": 1,
   "id": "6f46236d",
   "metadata": {},
   "outputs": [],
   "source": [
    "import sys\n",
    "import joblib\n",
    "sys.path.insert(0, '../src/')\n",
    "\n",
    "from sklearn.pipeline import Pipeline\n",
    "from feature_engine.imputation import MeanMedianImputer\n",
    "from feature_engine.wrappers import SklearnTransformerWrapper\n",
    "from feature_engine.discretisation import EqualFrequencyDiscretiser, EqualWidthDiscretiser\n",
    "from sklearn.preprocessing import RobustScaler, StandardScaler\n",
    "from sklearn.linear_model import LogisticRegression\n",
    "\n",
    "from utils.utils import load_config_file\n",
    "from data.data_load import DataLoad\n",
    "from data.data_validation import DataValidation\n",
    "from data.data_transformation import DataTransformation\n",
    "from data.data_preprocess import DataPreprocess\n",
    "from train.train import TrainModels\n",
    "from evaluation.classifier_eval import ModelEvaluation"
   ]
  },
  {
   "cell_type": "markdown",
   "id": "51d4e88a",
   "metadata": {},
   "source": [
    "# 1. Data Load"
   ]
  },
  {
   "cell_type": "code",
   "execution_count": 2,
   "id": "eda01a5a",
   "metadata": {},
   "outputs": [
    {
     "name": "stdout",
     "output_type": "stream",
     "text": [
      "\u001b[2m2025-05-19 21:00:52\u001b[0m [\u001b[32m\u001b[1minfo     \u001b[0m] \u001b[1mComeçando a carga dos dados com o nome: train_dataset_name\u001b[0m\n"
     ]
    }
   ],
   "source": [
    "dl = DataLoad()\n",
    "df = dl.load_data('train_dataset_name')"
   ]
  },
  {
   "cell_type": "markdown",
   "id": "9d6ecc25",
   "metadata": {},
   "source": [
    "# 2. Data Validation"
   ]
  },
  {
   "cell_type": "code",
   "execution_count": 3,
   "id": "e00b9b35",
   "metadata": {},
   "outputs": [
    {
     "name": "stdout",
     "output_type": "stream",
     "text": [
      "\u001b[2m2025-05-19 21:00:52\u001b[0m [\u001b[32m\u001b[1minfo     \u001b[0m] \u001b[1mValidacao iniciou             \u001b[0m\n",
      "\u001b[2m2025-05-19 21:00:52\u001b[0m [\u001b[32m\u001b[1minfo     \u001b[0m] \u001b[1mValidation columns passed...  \u001b[0m\n",
      "\u001b[2m2025-05-19 21:00:52\u001b[0m [\u001b[32m\u001b[1minfo     \u001b[0m] \u001b[1mValidacao com sucesso.        \u001b[0m\n"
     ]
    }
   ],
   "source": [
    "dv = DataValidation()\n",
    "is_valid = dv.run(df)"
   ]
  },
  {
   "cell_type": "markdown",
   "id": "cafed6e7",
   "metadata": {},
   "source": [
    "# 3. Data Transformation"
   ]
  },
  {
   "cell_type": "code",
   "execution_count": 4,
   "id": "a9e8d9a5",
   "metadata": {},
   "outputs": [],
   "source": [
    "dt = DataTransformation(df)\n",
    "X_train, X_valid, y_train, y_valid = dt.train_test_spliting()"
   ]
  },
  {
   "cell_type": "markdown",
   "id": "b1275f2b",
   "metadata": {},
   "source": [
    "# 4. Experimentations "
   ]
  },
  {
   "cell_type": "code",
   "execution_count": 5,
   "id": "eba0bb5e",
   "metadata": {},
   "outputs": [],
   "source": [
    "import mlflow\n",
    "from mlflow.tracking import MlflowClient"
   ]
  },
  {
   "cell_type": "code",
   "execution_count": 6,
   "id": "ddba040a",
   "metadata": {},
   "outputs": [
    {
     "data": {
      "text/plain": [
       "<Experiment: artifact_location='mlflow-artifacts:/1', creation_time=1747133663728, experiment_id='1', last_update_time=1747133663728, lifecycle_stage='active', name='prob_loan', tags={}>"
      ]
     },
     "execution_count": 6,
     "metadata": {},
     "output_type": "execute_result"
    }
   ],
   "source": [
    "mlflow.set_tracking_uri('http://127.0.0.1:5000')\n",
    "mlflow.set_experiment('prob_loan')"
   ]
  },
  {
   "cell_type": "markdown",
   "id": "813d4913",
   "metadata": {},
   "source": [
    "## 4.1. Select Best Model"
   ]
  },
  {
   "cell_type": "code",
   "execution_count": 7,
   "id": "2871304c",
   "metadata": {},
   "outputs": [],
   "source": [
    "current_experiment = dict(mlflow.get_experiment_by_name('prob_loan'))"
   ]
  },
  {
   "cell_type": "code",
   "execution_count": 8,
   "id": "78e0f43d",
   "metadata": {},
   "outputs": [],
   "source": [
    "experiment_id = current_experiment['experiment_id']"
   ]
  },
  {
   "cell_type": "code",
   "execution_count": 9,
   "id": "1cdc5c74",
   "metadata": {},
   "outputs": [],
   "source": [
    "df_mlflow = mlflow\\\n",
    "    .search_runs(filter_string='metrics.valid_roc_auc < 1')\\\n",
    "    .sort_values('metrics.valid_roc_auc', ascending=False)"
   ]
  },
  {
   "cell_type": "code",
   "execution_count": 10,
   "id": "7f490ae5",
   "metadata": {},
   "outputs": [
    {
     "data": {
      "text/plain": [
       "Index(['run_id', 'experiment_id', 'status', 'artifact_uri', 'start_time',\n",
       "       'end_time', 'metrics.log_loss', 'metrics.false_positives',\n",
       "       'metrics.true_negatives', 'metrics.train_roc_auc',\n",
       "       'metrics.example_count', 'metrics.f1_score', 'metrics.accuracy_score',\n",
       "       'metrics.roc_auc', 'metrics.false_negatives',\n",
       "       'metrics.precision_recall_auc', 'metrics.true_positives',\n",
       "       'metrics.score', 'metrics.valid_roc_auc', 'metrics.recall_score',\n",
       "       'metrics.precision_score', 'params.class_weight', 'params.multi_class',\n",
       "       'params.warm_start', 'params.discretizer', 'params.imputer',\n",
       "       'params.solver', 'params.C', 'params.tol', 'params.max_iter',\n",
       "       'params.fit_intercept', 'params.scaler', 'tags.mlflow.source.name',\n",
       "       'tags.mlflow.source.type', 'tags.model_name', 'tags.mlflow.runName',\n",
       "       'tags.mlflow.log-model.history', 'tags.mlflow.user',\n",
       "       'tags.mlflow.datasets'],\n",
       "      dtype='object')"
      ]
     },
     "execution_count": 10,
     "metadata": {},
     "output_type": "execute_result"
    }
   ],
   "source": [
    "df_mlflow.columns"
   ]
  },
  {
   "cell_type": "code",
   "execution_count": 21,
   "id": "79feaa89",
   "metadata": {},
   "outputs": [
    {
     "data": {
      "text/plain": [
       "'4c6de3ab4e4b4d62871573f77bedc8ba'"
      ]
     },
     "execution_count": 21,
     "metadata": {},
     "output_type": "execute_result"
    }
   ],
   "source": [
    "run_id = df_mlflow.loc[df_mlflow['metrics.valid_roc_auc'].idxmax()]['run_id']\n",
    "run_id"
   ]
  },
  {
   "cell_type": "code",
   "execution_count": null,
   "id": "d31db7e7",
   "metadata": {},
   "outputs": [],
   "source": []
  }
 ],
 "metadata": {
  "kernelspec": {
   "display_name": "mlflow_env",
   "language": "python",
   "name": "python3"
  },
  "language_info": {
   "codemirror_mode": {
    "name": "ipython",
    "version": 3
   },
   "file_extension": ".py",
   "mimetype": "text/x-python",
   "name": "python",
   "nbconvert_exporter": "python",
   "pygments_lexer": "ipython3",
   "version": "3.10.12"
  }
 },
 "nbformat": 4,
 "nbformat_minor": 5
}
