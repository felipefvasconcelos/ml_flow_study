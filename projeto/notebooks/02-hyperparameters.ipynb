{
 "cells": [
  {
   "cell_type": "markdown",
   "id": "648e2750",
   "metadata": {},
   "source": [
    "# 0. Imports"
   ]
  },
  {
   "cell_type": "code",
   "execution_count": 1,
   "id": "6f46236d",
   "metadata": {},
   "outputs": [],
   "source": [
    "import sys\n",
    "import joblib\n",
    "\n",
    "sys.path.insert(0, \"../src/\")\n",
    "\n",
    "from sklearn.pipeline import Pipeline\n",
    "from feature_engine.imputation import MeanMedianImputer\n",
    "from feature_engine.wrappers import SklearnTransformerWrapper\n",
    "from feature_engine.discretisation import (\n",
    "    EqualFrequencyDiscretiser,\n",
    "    EqualWidthDiscretiser,\n",
    ")\n",
    "from sklearn.preprocessing import RobustScaler, StandardScaler\n",
    "from sklearn.linear_model import LogisticRegression\n",
    "\n",
    "from utils.utils import load_config_file\n",
    "from data.data_load import DataLoad\n",
    "from data.data_validation import DataValidation\n",
    "from data.data_transformation import DataTransformation\n",
    "from data.data_preprocess import DataPreprocess\n",
    "from train.train import TrainModels\n",
    "from evaluation.classifier_eval import ModelEvaluation"
   ]
  },
  {
   "cell_type": "markdown",
   "id": "51d4e88a",
   "metadata": {},
   "source": [
    "# 1. Data Load"
   ]
  },
  {
   "cell_type": "code",
   "execution_count": 2,
   "id": "eda01a5a",
   "metadata": {},
   "outputs": [
    {
     "name": "stdout",
     "output_type": "stream",
     "text": [
      "\u001b[2m2025-05-19 20:58:52\u001b[0m [\u001b[32m\u001b[1minfo     \u001b[0m] \u001b[1mComeçando a carga dos dados com o nome: train_dataset_name\u001b[0m\n"
     ]
    }
   ],
   "source": [
    "dl = DataLoad()\n",
    "df = dl.load_data(\"train_dataset_name\")"
   ]
  },
  {
   "cell_type": "markdown",
   "id": "9d6ecc25",
   "metadata": {},
   "source": [
    "# 2. Data Validation"
   ]
  },
  {
   "cell_type": "code",
   "execution_count": 3,
   "id": "e00b9b35",
   "metadata": {},
   "outputs": [
    {
     "name": "stdout",
     "output_type": "stream",
     "text": [
      "\u001b[2m2025-05-19 20:58:56\u001b[0m [\u001b[32m\u001b[1minfo     \u001b[0m] \u001b[1mValidacao iniciou             \u001b[0m\n",
      "\u001b[2m2025-05-19 20:58:56\u001b[0m [\u001b[32m\u001b[1minfo     \u001b[0m] \u001b[1mValidation columns passed...  \u001b[0m\n",
      "\u001b[2m2025-05-19 20:58:56\u001b[0m [\u001b[32m\u001b[1minfo     \u001b[0m] \u001b[1mValidacao com sucesso.        \u001b[0m\n"
     ]
    }
   ],
   "source": [
    "dv = DataValidation()\n",
    "is_valid = dv.run(df)"
   ]
  },
  {
   "cell_type": "markdown",
   "id": "cafed6e7",
   "metadata": {},
   "source": [
    "# 3. Data Transformation"
   ]
  },
  {
   "cell_type": "code",
   "execution_count": 4,
   "id": "a9e8d9a5",
   "metadata": {},
   "outputs": [],
   "source": [
    "dt = DataTransformation(df)\n",
    "X_train, X_valid, y_train, y_valid = dt.train_test_spliting()"
   ]
  },
  {
   "cell_type": "markdown",
   "id": "b1275f2b",
   "metadata": {},
   "source": [
    "# 4. Experimentations "
   ]
  },
  {
   "cell_type": "code",
   "execution_count": 5,
   "id": "eba0bb5e",
   "metadata": {},
   "outputs": [],
   "source": [
    "import mlflow\n",
    "from mlflow.tracking import MlflowClient"
   ]
  },
  {
   "cell_type": "code",
   "execution_count": 6,
   "id": "ddba040a",
   "metadata": {},
   "outputs": [
    {
     "data": {
      "text/plain": [
       "<Experiment: artifact_location='mlflow-artifacts:/1', creation_time=1747133663728, experiment_id='1', last_update_time=1747133663728, lifecycle_stage='active', name='prob_loan', tags={}>"
      ]
     },
     "execution_count": 6,
     "metadata": {},
     "output_type": "execute_result"
    }
   ],
   "source": [
    "mlflow.set_tracking_uri(\"http://127.0.0.1:5000\")\n",
    "mlflow.set_experiment(\"prob_loan\")"
   ]
  },
  {
   "cell_type": "markdown",
   "id": "813d4913",
   "metadata": {},
   "source": [
    "## 4.1. Hyperparameters"
   ]
  },
  {
   "cell_type": "code",
   "execution_count": 7,
   "id": "7fa105cc",
   "metadata": {},
   "outputs": [],
   "source": [
    "from mlflow.models import MetricThreshold\n",
    "from sklearn.dummy import DummyClassifier\n",
    "from mlflow.models import infer_signature"
   ]
  },
  {
   "cell_type": "code",
   "execution_count": 8,
   "id": "08474ed6",
   "metadata": {},
   "outputs": [],
   "source": [
    "from hyperopt import fmin, tpe, hp, STATUS_OK"
   ]
  },
  {
   "cell_type": "code",
   "execution_count": 9,
   "id": "e9d72926",
   "metadata": {},
   "outputs": [],
   "source": [
    "pipe = Pipeline(\n",
    "    [\n",
    "        (\n",
    "            \"imputer\",\n",
    "            MeanMedianImputer(variables=[\"RendaMensal\", \"NumeroDeDependentes\"]),\n",
    "        ),\n",
    "        (\n",
    "            \"discretizer\",\n",
    "            EqualFrequencyDiscretiser(\n",
    "                variables=[\n",
    "                    \"TaxaDeUtilizacaoDeLinhasNaoGarantidas\",\n",
    "                    \"TaxaDeEndividamento\",\n",
    "                    \"RendaMensal\",\n",
    "                ]\n",
    "            ),\n",
    "        ),\n",
    "        (\"scaler\", SklearnTransformerWrapper(StandardScaler())),\n",
    "    ]\n",
    ")"
   ]
  },
  {
   "cell_type": "code",
   "execution_count": 10,
   "id": "c3f9c213",
   "metadata": {},
   "outputs": [],
   "source": [
    "def objective(params):\n",
    "    with mlflow.start_run(run_name=\"with_discretizer_hyperopt\"):\n",
    "        mlflow.set_tag(\"model_name\", \"lr_discretizer_hyperopt\")\n",
    "        mlflow.log_params(params)\n",
    "\n",
    "        preprocessador = DataPreprocess(pipe)\n",
    "        preprocessador.train(X_train)\n",
    "\n",
    "        X_train_processed = preprocessador.transform(X_train)\n",
    "        X_valid_processed = preprocessador.transform(X_valid)\n",
    "        joblib.dump(preprocessador, \"../models/preprocess.joblib\")\n",
    "\n",
    "        ## 1.1. logar um artefato (preprocessador)\n",
    "        mlflow.log_artifact(\"../models/preprocess.joblib\")\n",
    "\n",
    "        ## 1.2. logar os parametros do preprocessador\n",
    "        mlflow.log_params(\n",
    "            params={\n",
    "                \"imputer\": pipe[\"imputer\"],\n",
    "                \"discretizer\": pipe[\"discretizer\"],\n",
    "                \"scaler\": pipe[\"scaler\"],\n",
    "            }\n",
    "        )\n",
    "\n",
    "        # 2. Inicia o exprimento com cross validation\n",
    "        model = LogisticRegression(**params)\n",
    "        model_eval = ModelEvaluation(model, X_train_processed, y_train, n_splits=5)\n",
    "        roc_auc_scores = model_eval.cross_val_evaluate()\n",
    "\n",
    "        ## 2.1. logar o resultado da performance\n",
    "        mlflow.log_metric(\"train_roc_auc\", roc_auc_scores.mean())\n",
    "\n",
    "        # 3. Treinar o modelo\n",
    "        model.fit(X_train_processed, y_train)\n",
    "\n",
    "        # 4. Salvar as metricas de validacao do modelo\n",
    "        y_val_preds = model_eval.model.predict_proba(X_valid_processed)[:, 1]\n",
    "        val_roc_auc = model_eval.evaluate_predictions(y_valid, y_val_preds)\n",
    "\n",
    "        mlflow.log_metric(\"valid_roc_auc\", val_roc_auc)\n",
    "\n",
    "        # 5. Logar o modelo\n",
    "        candidate_model_uri = mlflow.sklearn.log_model(model, \"lr_model\").model_uri\n",
    "\n",
    "        # ===============================================================================\n",
    "        signature = infer_signature(X_valid_processed, y_valid)\n",
    "\n",
    "        eval_data = X_valid_processed\n",
    "        eval_data[\"label\"] = y_valid\n",
    "\n",
    "        thresholds = {\n",
    "            \"accuracy_score\": MetricThreshold(\n",
    "                threshold=0.1,  # o score da acuracia precisar ser > 0.7 para modelo ser logado\n",
    "                min_absolute_change=0.05,\n",
    "                min_relative_change=0.05,\n",
    "                greater_is_better=True,\n",
    "            )\n",
    "        }\n",
    "\n",
    "        baseline_model = DummyClassifier(strategy=\"uniform\").fit(\n",
    "            X_train_processed, y_train\n",
    "        )\n",
    "        baseline_model_uri = mlflow.sklearn.log_model(\n",
    "            baseline_model, \"baseline_model\", signature=signature\n",
    "        ).model_uri\n",
    "\n",
    "        # processo responsavel por avaliar o modelo do mlflow\n",
    "        mlflow.evaluate(\n",
    "            candidate_model_uri,\n",
    "            eval_data,\n",
    "            targets=\"label\",\n",
    "            model_type=\"classifier\",\n",
    "            validation_thresholds=thresholds,\n",
    "            baseline_model=baseline_model_uri,\n",
    "        )\n",
    "\n",
    "        mlflow.end_run()\n",
    "\n",
    "        return {\"loss\": -roc_auc_scores.mean(), \"status\": STATUS_OK}"
   ]
  },
  {
   "cell_type": "code",
   "execution_count": 11,
   "id": "0d8c225d",
   "metadata": {},
   "outputs": [],
   "source": [
    "search_space = {\n",
    "    \"warm_start\": hp.choice(\"warm_start\", [True, False]),\n",
    "    \"fit_intercept\": hp.choice(\"fit_intercept\", [True, False]),\n",
    "    \"tol\": hp.uniform(\"tol\", 0.00001, 0.0001),\n",
    "    \"C\": hp.uniform(\"C\", 0.05, 3),\n",
    "    \"solver\": hp.choice(\"solver\", [\"newton-cg\", \"lbfgs\", \"liblinear\"]),\n",
    "    \"max_iter\": hp.choice(\"max_iter\", range(100, 1000)),\n",
    "    \"multi_class\": \"auto\",\n",
    "    \"class_weight\": hp.choice(\"class_weight\", [None, \"balanced\"]),\n",
    "}"
   ]
  },
  {
   "cell_type": "code",
   "execution_count": 12,
   "id": "e00da0e8",
   "metadata": {},
   "outputs": [
    {
     "name": "stdout",
     "output_type": "stream",
     "text": [
      "\u001b[2m2025-05-19 20:59:08\u001b[0m [\u001b[32m\u001b[1minfo     \u001b[0m] \u001b[1mPreprocessamento iniciou...   \u001b[0m\n",
      "\u001b[2m2025-05-19 20:59:09\u001b[0m [\u001b[32m\u001b[1minfo     \u001b[0m] \u001b[1mTransformação dos dados com preprocessador iniciou...\u001b[0m\n",
      "\u001b[2m2025-05-19 20:59:09\u001b[0m [\u001b[32m\u001b[1minfo     \u001b[0m] \u001b[1mTransformação dos dados com preprocessador iniciou...\u001b[0m\n",
      "\u001b[2m2025-05-19 20:59:09\u001b[0m [\u001b[32m\u001b[1minfo     \u001b[0m] \u001b[1mIniciou a validação cruzada...\u001b[0m\n",
      "  0%|          | 0/5 [00:00<?, ?trial/s, best loss=?]"
     ]
    },
    {
     "name": "stderr",
     "output_type": "stream",
     "text": [
      "/home/felipe/miniconda3/envs/mlflow_env/lib/python3.10/site-packages/sklearn/linear_model/_logistic.py:1247: FutureWarning: 'multi_class' was deprecated in version 1.5 and will be removed in 1.7. From then on, it will always use 'multinomial'. Leave it to its default value to avoid this warning.\n",
      "  warnings.warn(\n",
      "\n",
      "/home/felipe/miniconda3/envs/mlflow_env/lib/python3.10/site-packages/sklearn/linear_model/_logistic.py:1247: FutureWarning: 'multi_class' was deprecated in version 1.5 and will be removed in 1.7. From then on, it will always use 'multinomial'. Leave it to its default value to avoid this warning.\n",
      "  warnings.warn(\n",
      "\n",
      "/home/felipe/miniconda3/envs/mlflow_env/lib/python3.10/site-packages/sklearn/linear_model/_logistic.py:1247: FutureWarning: 'multi_class' was deprecated in version 1.5 and will be removed in 1.7. From then on, it will always use 'multinomial'. Leave it to its default value to avoid this warning.\n",
      "  warnings.warn(\n",
      "\n",
      "/home/felipe/miniconda3/envs/mlflow_env/lib/python3.10/site-packages/sklearn/linear_model/_logistic.py:1247: FutureWarning: 'multi_class' was deprecated in version 1.5 and will be removed in 1.7. From then on, it will always use 'multinomial'. Leave it to its default value to avoid this warning.\n",
      "  warnings.warn(\n",
      "\n",
      "/home/felipe/miniconda3/envs/mlflow_env/lib/python3.10/site-packages/sklearn/linear_model/_logistic.py:1247: FutureWarning: 'multi_class' was deprecated in version 1.5 and will be removed in 1.7. From then on, it will always use 'multinomial'. Leave it to its default value to avoid this warning.\n",
      "  warnings.warn(\n",
      "\n",
      "/home/felipe/miniconda3/envs/mlflow_env/lib/python3.10/site-packages/sklearn/linear_model/_logistic.py:1247: FutureWarning: 'multi_class' was deprecated in version 1.5 and will be removed in 1.7. From then on, it will always use 'multinomial'. Leave it to its default value to avoid this warning.\n",
      "  warnings.warn(\n",
      "\n"
     ]
    },
    {
     "name": "stdout",
     "output_type": "stream",
     "text": [
      "\u001b[2m2025-05-19 20:59:11\u001b[0m [\u001b[32m\u001b[1minfo     \u001b[0m] \u001b[1mIniciou a validação do modelo \u001b[0m\n",
      "  0%|          | 0/5 [00:03<?, ?trial/s, best loss=?]"
     ]
    },
    {
     "name": "stderr",
     "output_type": "stream",
     "text": [
      "\u001b[31m2025/05/19 20:59:15 WARNING mlflow.models.model: Model logged without a signature and input example. Please set `input_example` parameter when logging the model to auto infer the model signature.\u001b[0m\n",
      "\n",
      "/home/felipe/miniconda3/envs/mlflow_env/lib/python3.10/site-packages/mlflow/types/utils.py:452: UserWarning: Hint: Inferred schema contains integer column(s). Integer columns in Python cannot represent missing values. If your input data contains missing values at inference time, it will be encoded as floats and will cause a schema enforcement error. The best way to avoid this problem is to infer the model schema based on a realistic data sample (training dataset) that includes missing values. Alternatively, you can declare integer columns as doubles (float64) whenever these columns may have missing values. See `Handling Integers With Missing Values <https://www.mlflow.org/docs/latest/models.html#handling-integers-with-missing-values>`_ for more details.\n",
      "  warnings.warn(\n",
      "\n",
      "/home/felipe/miniconda3/envs/mlflow_env/lib/python3.10/site-packages/tqdm/auto.py:21: TqdmWarning: IProgress not found. Please update jupyter and ipywidgets. See https://ipywidgets.readthedocs.io/en/stable/user_install.html\n",
      "  from .autonotebook import tqdm as notebook_tqdm\n",
      "\n",
      "Downloading artifacts:   0%|          | 0/5 [00:00<?, ?it/s]\n",
      "Downloading artifacts:  20%|##        | 1/5 [00:00<00:00, 618.54it/s]\n",
      "Downloading artifacts:  40%|####      | 2/5 [00:00<00:00, 467.62it/s]\n",
      "Downloading artifacts:  60%|######    | 3/5 [00:00<00:00, 403.32it/s]\n",
      "Downloading artifacts:  80%|########  | 4/5 [00:00<00:00, 363.15it/s]\n",
      "Downloading artifacts: 100%|##########| 5/5 [00:00<00:00, 322.20it/s]\n",
      "Downloading artifacts: 100%|##########| 5/5 [00:00<00:00, 295.91it/s]\n",
      "/home/felipe/miniconda3/envs/mlflow_env/lib/python3.10/site-packages/mlflow/types/utils.py:452: UserWarning: Hint: Inferred schema contains integer column(s). Integer columns in Python cannot represent missing values. If your input data contains missing values at inference time, it will be encoded as floats and will cause a schema enforcement error. The best way to avoid this problem is to infer the model schema based on a realistic data sample (training dataset) that includes missing values. Alternatively, you can declare integer columns as doubles (float64) whenever these columns may have missing values. See `Handling Integers With Missing Values <https://www.mlflow.org/docs/latest/models.html#handling-integers-with-missing-values>`_ for more details.\n",
      "  warnings.warn(\n",
      "\n",
      "2025/05/19 20:59:20 WARNING mlflow.models.evaluation.evaluators.classifier: According to the evaluation dataset label values, the model type looks like None, but you specified model type 'classifier'. Please verify that you set the `model_type` and `dataset` arguments correctly.\n",
      "\n",
      "2025/05/19 20:59:20 INFO mlflow.models.evaluation.evaluators.classifier: The evaluation dataset is inferred as binary dataset, positive label is 1, negative label is 0.\n",
      "\n",
      "2025/05/19 20:59:20 INFO mlflow.models.evaluation.default_evaluator: Testing metrics on first row...\n",
      "\n",
      "2025/05/19 20:59:23 INFO mlflow.models.evaluation.evaluators.shap: Shap explainer LinearExplainer is used.\n",
      "\n",
      "/home/felipe/miniconda3/envs/mlflow_env/lib/python3.10/site-packages/mlflow/shap/__init__.py:436: UserWarning: Unable to serialize underlying model using MLflow, will use SHAP serialization\n",
      "  warnings.warn(\n",
      "\n",
      "2025/05/19 20:59:23 WARNING mlflow.models.evaluation.evaluators.shap: Logging explainer failed. Reason: AttributeError(\"'LogisticRegression' object has no attribute 'save'\"). Set logging level to DEBUG to see the full traceback.\n",
      "\n",
      "/tmp/ipykernel_1940/1573200106.py:61: FutureWarning: Model validation functionality is moved from `mlflow.evaluate` to the `mlflow.validate_evaluation_results()` API. The `baseline_model` argument will be removed in a future release.\n",
      "  mlflow.evaluate(candidate_model_uri,\n",
      "\n",
      "Downloading artifacts:   0%|          | 0/5 [00:00<?, ?it/s]\n",
      "Downloading artifacts:  20%|##        | 1/5 [00:00<00:00, 27.38it/s]\n",
      "Downloading artifacts:  40%|####      | 2/5 [00:00<00:00, 43.98it/s]\n",
      "Downloading artifacts:  60%|######    | 3/5 [00:00<00:00, 59.17it/s]\n",
      "Downloading artifacts:  80%|########  | 4/5 [00:00<00:00, 73.17it/s]\n",
      "Downloading artifacts: 100%|##########| 5/5 [00:00<00:00, 84.31it/s]\n",
      "Downloading artifacts: 100%|##########| 5/5 [00:00<00:00, 80.19it/s]\n",
      "2025/05/19 20:59:25 WARNING mlflow.models.evaluation.evaluators.classifier: According to the evaluation dataset label values, the model type looks like None, but you specified model type 'classifier'. Please verify that you set the `model_type` and `dataset` arguments correctly.\n",
      "\n",
      "2025/05/19 20:59:25 INFO mlflow.models.evaluation.evaluators.classifier: The evaluation dataset is inferred as binary dataset, positive label is 1, negative label is 0.\n",
      "\n",
      "2025/05/19 20:59:25 INFO mlflow.models.evaluation.default_evaluator: Testing metrics on first row...\n",
      "\n",
      "2025/05/19 20:59:26 WARNING mlflow.models.evaluation.evaluators.shap: Shap evaluation failed. Reason: TypeError(\"The passed model is not callable and cannot be analyzed directly with the given masker! Model: DummyClassifier(strategy='uniform')\"). Set logging level to DEBUG to see the full traceback.\n",
      "\n",
      "2025/05/19 20:59:26 INFO mlflow.models.evaluation.validation: Validating candidate model metrics against baseline\n",
      "\n",
      "2025/05/19 20:59:26 INFO mlflow.models.evaluation.validation: Model validation passed!\n",
      "\n"
     ]
    },
    {
     "name": "stdout",
     "output_type": "stream",
     "text": [
      "🏃 View run with_discretizer_hyperopt at: http://127.0.0.1:5000/#/experiments/1/runs/ddfebcee207d41689c408817173e103e\n",
      "\n",
      "🧪 View experiment at: http://127.0.0.1:5000/#/experiments/1\n",
      "\n",
      " 20%|██        | 1/5 [00:18<01:13, 18.28s/trial, best loss: -0.8245984820451715]"
     ]
    },
    {
     "name": "stderr",
     "output_type": "stream",
     "text": [
      "INFO:hyperopt.tpe:build_posterior_wrapper took 0.031858 seconds\n",
      "\n",
      "INFO:hyperopt.tpe:TPE using 1/1 trials with best loss -0.824598\n",
      "\n"
     ]
    },
    {
     "name": "stdout",
     "output_type": "stream",
     "text": [
      "\u001b[2m2025-05-19 20:59:27\u001b[0m [\u001b[32m\u001b[1minfo     \u001b[0m] \u001b[1mPreprocessamento iniciou...   \u001b[0m\n",
      "\u001b[2m2025-05-19 20:59:27\u001b[0m [\u001b[32m\u001b[1minfo     \u001b[0m] \u001b[1mTransformação dos dados com preprocessador iniciou...\u001b[0m\n",
      "\u001b[2m2025-05-19 20:59:27\u001b[0m [\u001b[32m\u001b[1minfo     \u001b[0m] \u001b[1mTransformação dos dados com preprocessador iniciou...\u001b[0m\n",
      "\u001b[2m2025-05-19 20:59:27\u001b[0m [\u001b[32m\u001b[1minfo     \u001b[0m] \u001b[1mIniciou a validação cruzada...\u001b[0m\n",
      " 20%|██        | 1/5 [00:18<01:13, 18.28s/trial, best loss: -0.8245984820451715]"
     ]
    },
    {
     "name": "stderr",
     "output_type": "stream",
     "text": [
      "/home/felipe/miniconda3/envs/mlflow_env/lib/python3.10/site-packages/sklearn/linear_model/_logistic.py:1247: FutureWarning: 'multi_class' was deprecated in version 1.5 and will be removed in 1.7. From then on, it will always use 'multinomial'. Leave it to its default value to avoid this warning.\n",
      "  warnings.warn(\n",
      "\n",
      "/home/felipe/miniconda3/envs/mlflow_env/lib/python3.10/site-packages/sklearn/linear_model/_logistic.py:1247: FutureWarning: 'multi_class' was deprecated in version 1.5 and will be removed in 1.7. From then on, it will always use 'multinomial'. Leave it to its default value to avoid this warning.\n",
      "  warnings.warn(\n",
      "\n",
      "/home/felipe/miniconda3/envs/mlflow_env/lib/python3.10/site-packages/sklearn/linear_model/_logistic.py:1247: FutureWarning: 'multi_class' was deprecated in version 1.5 and will be removed in 1.7. From then on, it will always use 'multinomial'. Leave it to its default value to avoid this warning.\n",
      "  warnings.warn(\n",
      "\n",
      "/home/felipe/miniconda3/envs/mlflow_env/lib/python3.10/site-packages/sklearn/linear_model/_logistic.py:1247: FutureWarning: 'multi_class' was deprecated in version 1.5 and will be removed in 1.7. From then on, it will always use 'multinomial'. Leave it to its default value to avoid this warning.\n",
      "  warnings.warn(\n",
      "\n",
      "/home/felipe/miniconda3/envs/mlflow_env/lib/python3.10/site-packages/sklearn/linear_model/_logistic.py:1247: FutureWarning: 'multi_class' was deprecated in version 1.5 and will be removed in 1.7. From then on, it will always use 'multinomial'. Leave it to its default value to avoid this warning.\n",
      "  warnings.warn(\n",
      "\n",
      "/home/felipe/miniconda3/envs/mlflow_env/lib/python3.10/site-packages/sklearn/linear_model/_logistic.py:1247: FutureWarning: 'multi_class' was deprecated in version 1.5 and will be removed in 1.7. From then on, it will always use 'multinomial'. Leave it to its default value to avoid this warning.\n",
      "  warnings.warn(\n",
      "\n"
     ]
    },
    {
     "name": "stdout",
     "output_type": "stream",
     "text": [
      "\u001b[2m2025-05-19 20:59:29\u001b[0m [\u001b[32m\u001b[1minfo     \u001b[0m] \u001b[1mIniciou a validação do modelo \u001b[0m\n",
      " 20%|██        | 1/5 [00:20<01:13, 18.28s/trial, best loss: -0.8245984820451715]"
     ]
    },
    {
     "name": "stderr",
     "output_type": "stream",
     "text": [
      "\u001b[31m2025/05/19 20:59:31 WARNING mlflow.models.model: Model logged without a signature and input example. Please set `input_example` parameter when logging the model to auto infer the model signature.\u001b[0m\n",
      "\n",
      "/home/felipe/miniconda3/envs/mlflow_env/lib/python3.10/site-packages/mlflow/types/utils.py:452: UserWarning: Hint: Inferred schema contains integer column(s). Integer columns in Python cannot represent missing values. If your input data contains missing values at inference time, it will be encoded as floats and will cause a schema enforcement error. The best way to avoid this problem is to infer the model schema based on a realistic data sample (training dataset) that includes missing values. Alternatively, you can declare integer columns as doubles (float64) whenever these columns may have missing values. See `Handling Integers With Missing Values <https://www.mlflow.org/docs/latest/models.html#handling-integers-with-missing-values>`_ for more details.\n",
      "  warnings.warn(\n",
      "\n",
      "Downloading artifacts:   0%|          | 0/5 [00:00<?, ?it/s]\n",
      "Downloading artifacts:  20%|##        | 1/5 [00:00<00:00, 47.52it/s]\n",
      "Downloading artifacts:  40%|####      | 2/5 [00:00<00:00, 77.04it/s]\n",
      "Downloading artifacts:  60%|######    | 3/5 [00:00<00:00, 96.58it/s]\n",
      "Downloading artifacts:  80%|########  | 4/5 [00:00<00:00, 87.87it/s]\n",
      "Downloading artifacts: 100%|##########| 5/5 [00:00<00:00, 99.36it/s]\n",
      "Downloading artifacts: 100%|##########| 5/5 [00:00<00:00, 95.28it/s]\n",
      "/home/felipe/miniconda3/envs/mlflow_env/lib/python3.10/site-packages/mlflow/types/utils.py:452: UserWarning: Hint: Inferred schema contains integer column(s). Integer columns in Python cannot represent missing values. If your input data contains missing values at inference time, it will be encoded as floats and will cause a schema enforcement error. The best way to avoid this problem is to infer the model schema based on a realistic data sample (training dataset) that includes missing values. Alternatively, you can declare integer columns as doubles (float64) whenever these columns may have missing values. See `Handling Integers With Missing Values <https://www.mlflow.org/docs/latest/models.html#handling-integers-with-missing-values>`_ for more details.\n",
      "  warnings.warn(\n",
      "\n",
      "2025/05/19 20:59:35 WARNING mlflow.models.evaluation.evaluators.classifier: According to the evaluation dataset label values, the model type looks like None, but you specified model type 'classifier'. Please verify that you set the `model_type` and `dataset` arguments correctly.\n",
      "\n",
      "2025/05/19 20:59:36 INFO mlflow.models.evaluation.evaluators.classifier: The evaluation dataset is inferred as binary dataset, positive label is 1, negative label is 0.\n",
      "\n",
      "2025/05/19 20:59:36 INFO mlflow.models.evaluation.default_evaluator: Testing metrics on first row...\n",
      "\n",
      "2025/05/19 20:59:37 INFO mlflow.models.evaluation.evaluators.shap: Shap explainer LinearExplainer is used.\n",
      "\n",
      "/home/felipe/miniconda3/envs/mlflow_env/lib/python3.10/site-packages/mlflow/shap/__init__.py:436: UserWarning: Unable to serialize underlying model using MLflow, will use SHAP serialization\n",
      "  warnings.warn(\n",
      "\n",
      "2025/05/19 20:59:37 WARNING mlflow.models.evaluation.evaluators.shap: Logging explainer failed. Reason: AttributeError(\"'LogisticRegression' object has no attribute 'save'\"). Set logging level to DEBUG to see the full traceback.\n",
      "\n",
      "/tmp/ipykernel_1940/1573200106.py:61: FutureWarning: Model validation functionality is moved from `mlflow.evaluate` to the `mlflow.validate_evaluation_results()` API. The `baseline_model` argument will be removed in a future release.\n",
      "  mlflow.evaluate(candidate_model_uri,\n",
      "\n",
      "Downloading artifacts:   0%|          | 0/5 [00:00<?, ?it/s]\n",
      "Downloading artifacts:  20%|##        | 1/5 [00:00<00:00, 72.48it/s]\n",
      "Downloading artifacts:  40%|####      | 2/5 [00:00<00:00, 64.61it/s]\n",
      "Downloading artifacts:  60%|######    | 3/5 [00:00<00:00, 75.26it/s]\n",
      "Downloading artifacts:  80%|########  | 4/5 [00:00<00:00, 93.83it/s]\n",
      "Downloading artifacts: 100%|##########| 5/5 [00:00<00:00, 103.91it/s]\n",
      "Downloading artifacts: 100%|##########| 5/5 [00:00<00:00, 99.30it/s] \n",
      "2025/05/19 20:59:39 WARNING mlflow.models.evaluation.evaluators.classifier: According to the evaluation dataset label values, the model type looks like None, but you specified model type 'classifier'. Please verify that you set the `model_type` and `dataset` arguments correctly.\n",
      "\n",
      "2025/05/19 20:59:39 INFO mlflow.models.evaluation.evaluators.classifier: The evaluation dataset is inferred as binary dataset, positive label is 1, negative label is 0.\n",
      "\n",
      "2025/05/19 20:59:40 INFO mlflow.models.evaluation.default_evaluator: Testing metrics on first row...\n",
      "\n",
      "2025/05/19 20:59:41 WARNING mlflow.models.evaluation.evaluators.shap: Shap evaluation failed. Reason: TypeError(\"The passed model is not callable and cannot be analyzed directly with the given masker! Model: DummyClassifier(strategy='uniform')\"). Set logging level to DEBUG to see the full traceback.\n",
      "\n",
      "2025/05/19 20:59:41 INFO mlflow.models.evaluation.validation: Validating candidate model metrics against baseline\n",
      "\n",
      "2025/05/19 20:59:41 INFO mlflow.models.evaluation.validation: Model validation passed!\n",
      "\n"
     ]
    },
    {
     "name": "stdout",
     "output_type": "stream",
     "text": [
      "🏃 View run with_discretizer_hyperopt at: http://127.0.0.1:5000/#/experiments/1/runs/4c9c97b140a04200b980bf1a91eb695d\n",
      "\n",
      "🧪 View experiment at: http://127.0.0.1:5000/#/experiments/1                    \n",
      "\n",
      " 40%|████      | 2/5 [00:32<00:48, 16.06s/trial, best loss: -0.8473541789127749]"
     ]
    },
    {
     "name": "stderr",
     "output_type": "stream",
     "text": [
      "INFO:hyperopt.tpe:build_posterior_wrapper took 0.031034 seconds\n",
      "\n",
      "INFO:hyperopt.tpe:TPE using 2/2 trials with best loss -0.847354\n",
      "\n"
     ]
    },
    {
     "name": "stdout",
     "output_type": "stream",
     "text": [
      "\u001b[2m2025-05-19 20:59:41\u001b[0m [\u001b[32m\u001b[1minfo     \u001b[0m] \u001b[1mPreprocessamento iniciou...   \u001b[0m\n",
      "\u001b[2m2025-05-19 20:59:41\u001b[0m [\u001b[32m\u001b[1minfo     \u001b[0m] \u001b[1mTransformação dos dados com preprocessador iniciou...\u001b[0m\n",
      "\u001b[2m2025-05-19 20:59:41\u001b[0m [\u001b[32m\u001b[1minfo     \u001b[0m] \u001b[1mTransformação dos dados com preprocessador iniciou...\u001b[0m\n",
      "\u001b[2m2025-05-19 20:59:41\u001b[0m [\u001b[32m\u001b[1minfo     \u001b[0m] \u001b[1mIniciou a validação cruzada...\u001b[0m\n",
      " 40%|████      | 2/5 [00:33<00:48, 16.06s/trial, best loss: -0.8473541789127749]"
     ]
    },
    {
     "name": "stderr",
     "output_type": "stream",
     "text": [
      "/home/felipe/miniconda3/envs/mlflow_env/lib/python3.10/site-packages/sklearn/linear_model/_logistic.py:1247: FutureWarning: 'multi_class' was deprecated in version 1.5 and will be removed in 1.7. From then on, it will always use 'multinomial'. Leave it to its default value to avoid this warning.\n",
      "  warnings.warn(\n",
      "\n",
      "/home/felipe/miniconda3/envs/mlflow_env/lib/python3.10/site-packages/sklearn/linear_model/_logistic.py:1247: FutureWarning: 'multi_class' was deprecated in version 1.5 and will be removed in 1.7. From then on, it will always use 'multinomial'. Leave it to its default value to avoid this warning.\n",
      "  warnings.warn(\n",
      "\n",
      "/home/felipe/miniconda3/envs/mlflow_env/lib/python3.10/site-packages/sklearn/linear_model/_logistic.py:1247: FutureWarning: 'multi_class' was deprecated in version 1.5 and will be removed in 1.7. From then on, it will always use 'multinomial'. Leave it to its default value to avoid this warning.\n",
      "  warnings.warn(\n",
      "\n",
      "/home/felipe/miniconda3/envs/mlflow_env/lib/python3.10/site-packages/sklearn/linear_model/_logistic.py:1247: FutureWarning: 'multi_class' was deprecated in version 1.5 and will be removed in 1.7. From then on, it will always use 'multinomial'. Leave it to its default value to avoid this warning.\n",
      "  warnings.warn(\n",
      "\n",
      "/home/felipe/miniconda3/envs/mlflow_env/lib/python3.10/site-packages/sklearn/linear_model/_logistic.py:1247: FutureWarning: 'multi_class' was deprecated in version 1.5 and will be removed in 1.7. From then on, it will always use 'multinomial'. Leave it to its default value to avoid this warning.\n",
      "  warnings.warn(\n",
      "\n",
      "/home/felipe/miniconda3/envs/mlflow_env/lib/python3.10/site-packages/sklearn/linear_model/_logistic.py:1247: FutureWarning: 'multi_class' was deprecated in version 1.5 and will be removed in 1.7. From then on, it will always use 'multinomial'. Leave it to its default value to avoid this warning.\n",
      "  warnings.warn(\n",
      "\n"
     ]
    },
    {
     "name": "stdout",
     "output_type": "stream",
     "text": [
      "\u001b[2m2025-05-19 20:59:44\u001b[0m [\u001b[32m\u001b[1minfo     \u001b[0m] \u001b[1mIniciou a validação do modelo \u001b[0m\n",
      " 40%|████      | 2/5 [00:35<00:48, 16.06s/trial, best loss: -0.8473541789127749]"
     ]
    },
    {
     "name": "stderr",
     "output_type": "stream",
     "text": [
      "\u001b[31m2025/05/19 20:59:47 WARNING mlflow.models.model: Model logged without a signature and input example. Please set `input_example` parameter when logging the model to auto infer the model signature.\u001b[0m\n",
      "\n",
      "/home/felipe/miniconda3/envs/mlflow_env/lib/python3.10/site-packages/mlflow/types/utils.py:452: UserWarning: Hint: Inferred schema contains integer column(s). Integer columns in Python cannot represent missing values. If your input data contains missing values at inference time, it will be encoded as floats and will cause a schema enforcement error. The best way to avoid this problem is to infer the model schema based on a realistic data sample (training dataset) that includes missing values. Alternatively, you can declare integer columns as doubles (float64) whenever these columns may have missing values. See `Handling Integers With Missing Values <https://www.mlflow.org/docs/latest/models.html#handling-integers-with-missing-values>`_ for more details.\n",
      "  warnings.warn(\n",
      "\n",
      "Downloading artifacts:   0%|          | 0/5 [00:00<?, ?it/s]\n",
      "Downloading artifacts:  20%|##        | 1/5 [00:00<00:00, 53.45it/s]\n",
      "Downloading artifacts:  40%|####      | 2/5 [00:00<00:00, 73.95it/s]\n",
      "Downloading artifacts:  60%|######    | 3/5 [00:00<00:00, 69.57it/s]\n",
      "Downloading artifacts:  80%|########  | 4/5 [00:00<00:00, 77.31it/s]\n",
      "Downloading artifacts: 100%|##########| 5/5 [00:00<00:00, 90.48it/s]\n",
      "Downloading artifacts: 100%|##########| 5/5 [00:00<00:00, 86.82it/s]\n",
      "/home/felipe/miniconda3/envs/mlflow_env/lib/python3.10/site-packages/mlflow/types/utils.py:452: UserWarning: Hint: Inferred schema contains integer column(s). Integer columns in Python cannot represent missing values. If your input data contains missing values at inference time, it will be encoded as floats and will cause a schema enforcement error. The best way to avoid this problem is to infer the model schema based on a realistic data sample (training dataset) that includes missing values. Alternatively, you can declare integer columns as doubles (float64) whenever these columns may have missing values. See `Handling Integers With Missing Values <https://www.mlflow.org/docs/latest/models.html#handling-integers-with-missing-values>`_ for more details.\n",
      "  warnings.warn(\n",
      "\n",
      "2025/05/19 20:59:51 WARNING mlflow.models.evaluation.evaluators.classifier: According to the evaluation dataset label values, the model type looks like None, but you specified model type 'classifier'. Please verify that you set the `model_type` and `dataset` arguments correctly.\n",
      "\n",
      "2025/05/19 20:59:51 INFO mlflow.models.evaluation.evaluators.classifier: The evaluation dataset is inferred as binary dataset, positive label is 1, negative label is 0.\n",
      "\n",
      "2025/05/19 20:59:52 INFO mlflow.models.evaluation.default_evaluator: Testing metrics on first row...\n",
      "\n",
      "2025/05/19 20:59:53 INFO mlflow.models.evaluation.evaluators.shap: Shap explainer LinearExplainer is used.\n",
      "\n",
      "/home/felipe/miniconda3/envs/mlflow_env/lib/python3.10/site-packages/mlflow/shap/__init__.py:436: UserWarning: Unable to serialize underlying model using MLflow, will use SHAP serialization\n",
      "  warnings.warn(\n",
      "\n",
      "2025/05/19 20:59:53 WARNING mlflow.models.evaluation.evaluators.shap: Logging explainer failed. Reason: AttributeError(\"'LogisticRegression' object has no attribute 'save'\"). Set logging level to DEBUG to see the full traceback.\n",
      "\n",
      "/tmp/ipykernel_1940/1573200106.py:61: FutureWarning: Model validation functionality is moved from `mlflow.evaluate` to the `mlflow.validate_evaluation_results()` API. The `baseline_model` argument will be removed in a future release.\n",
      "  mlflow.evaluate(candidate_model_uri,\n",
      "\n",
      "Downloading artifacts:   0%|          | 0/5 [00:00<?, ?it/s]\n",
      "Downloading artifacts:  20%|##        | 1/5 [00:00<00:00, 35.47it/s]\n",
      "Downloading artifacts:  40%|####      | 2/5 [00:00<00:00, 51.53it/s]\n",
      "Downloading artifacts:  60%|######    | 3/5 [00:00<00:00, 71.59it/s]\n",
      "Downloading artifacts:  80%|########  | 4/5 [00:00<00:00, 83.25it/s]\n",
      "Downloading artifacts: 100%|##########| 5/5 [00:00<00:00, 95.46it/s]\n",
      "Downloading artifacts: 100%|##########| 5/5 [00:00<00:00, 90.00it/s]\n",
      "2025/05/19 20:59:55 WARNING mlflow.models.evaluation.evaluators.classifier: According to the evaluation dataset label values, the model type looks like None, but you specified model type 'classifier'. Please verify that you set the `model_type` and `dataset` arguments correctly.\n",
      "\n",
      "2025/05/19 20:59:55 INFO mlflow.models.evaluation.evaluators.classifier: The evaluation dataset is inferred as binary dataset, positive label is 1, negative label is 0.\n",
      "\n",
      "2025/05/19 20:59:55 INFO mlflow.models.evaluation.default_evaluator: Testing metrics on first row...\n",
      "\n",
      "2025/05/19 20:59:57 WARNING mlflow.models.evaluation.evaluators.shap: Shap evaluation failed. Reason: TypeError(\"The passed model is not callable and cannot be analyzed directly with the given masker! Model: DummyClassifier(strategy='uniform')\"). Set logging level to DEBUG to see the full traceback.\n",
      "\n",
      "2025/05/19 20:59:57 INFO mlflow.models.evaluation.validation: Validating candidate model metrics against baseline\n",
      "\n",
      "2025/05/19 20:59:57 INFO mlflow.models.evaluation.validation: Model validation passed!\n",
      "\n"
     ]
    },
    {
     "name": "stdout",
     "output_type": "stream",
     "text": [
      "🏃 View run with_discretizer_hyperopt at: http://127.0.0.1:5000/#/experiments/1/runs/249a9b3d7a464d6e9f8ecdab3b4de3ef\n",
      "\n",
      "🧪 View experiment at: http://127.0.0.1:5000/#/experiments/1                    \n",
      "\n",
      " 60%|██████    | 3/5 [00:49<00:32, 16.15s/trial, best loss: -0.8473541789127749]"
     ]
    },
    {
     "name": "stderr",
     "output_type": "stream",
     "text": [
      "INFO:hyperopt.tpe:build_posterior_wrapper took 0.034949 seconds\n",
      "\n",
      "INFO:hyperopt.tpe:TPE using 3/3 trials with best loss -0.847354\n",
      "\n"
     ]
    },
    {
     "name": "stdout",
     "output_type": "stream",
     "text": [
      "\u001b[2m2025-05-19 20:59:57\u001b[0m [\u001b[32m\u001b[1minfo     \u001b[0m] \u001b[1mPreprocessamento iniciou...   \u001b[0m\n",
      "\u001b[2m2025-05-19 20:59:57\u001b[0m [\u001b[32m\u001b[1minfo     \u001b[0m] \u001b[1mTransformação dos dados com preprocessador iniciou...\u001b[0m\n",
      "\u001b[2m2025-05-19 20:59:57\u001b[0m [\u001b[32m\u001b[1minfo     \u001b[0m] \u001b[1mTransformação dos dados com preprocessador iniciou...\u001b[0m\n",
      "\u001b[2m2025-05-19 20:59:58\u001b[0m [\u001b[32m\u001b[1minfo     \u001b[0m] \u001b[1mIniciou a validação cruzada...\u001b[0m\n",
      " 60%|██████    | 3/5 [00:49<00:32, 16.15s/trial, best loss: -0.8473541789127749]"
     ]
    },
    {
     "name": "stderr",
     "output_type": "stream",
     "text": [
      "/home/felipe/miniconda3/envs/mlflow_env/lib/python3.10/site-packages/sklearn/linear_model/_logistic.py:1247: FutureWarning: 'multi_class' was deprecated in version 1.5 and will be removed in 1.7. From then on, it will always use 'multinomial'. Leave it to its default value to avoid this warning.\n",
      "  warnings.warn(\n",
      "\n",
      "/home/felipe/miniconda3/envs/mlflow_env/lib/python3.10/site-packages/sklearn/linear_model/_logistic.py:1247: FutureWarning: 'multi_class' was deprecated in version 1.5 and will be removed in 1.7. From then on, it will always use 'multinomial'. Leave it to its default value to avoid this warning.\n",
      "  warnings.warn(\n",
      "\n",
      "/home/felipe/miniconda3/envs/mlflow_env/lib/python3.10/site-packages/sklearn/linear_model/_logistic.py:1247: FutureWarning: 'multi_class' was deprecated in version 1.5 and will be removed in 1.7. From then on, it will always use 'multinomial'. Leave it to its default value to avoid this warning.\n",
      "  warnings.warn(\n",
      "\n",
      "/home/felipe/miniconda3/envs/mlflow_env/lib/python3.10/site-packages/sklearn/linear_model/_logistic.py:1247: FutureWarning: 'multi_class' was deprecated in version 1.5 and will be removed in 1.7. From then on, it will always use 'multinomial'. Leave it to its default value to avoid this warning.\n",
      "  warnings.warn(\n",
      "\n",
      "/home/felipe/miniconda3/envs/mlflow_env/lib/python3.10/site-packages/sklearn/linear_model/_logistic.py:1247: FutureWarning: 'multi_class' was deprecated in version 1.5 and will be removed in 1.7. From then on, it will always use 'multinomial'. Leave it to its default value to avoid this warning.\n",
      "  warnings.warn(\n",
      "\n",
      "/home/felipe/miniconda3/envs/mlflow_env/lib/python3.10/site-packages/sklearn/linear_model/_logistic.py:1247: FutureWarning: 'multi_class' was deprecated in version 1.5 and will be removed in 1.7. From then on, it will always use 'multinomial'. Leave it to its default value to avoid this warning.\n",
      "  warnings.warn(\n",
      "\n"
     ]
    },
    {
     "name": "stdout",
     "output_type": "stream",
     "text": [
      "\u001b[2m2025-05-19 21:00:00\u001b[0m [\u001b[32m\u001b[1minfo     \u001b[0m] \u001b[1mIniciou a validação do modelo \u001b[0m\n",
      " 60%|██████    | 3/5 [00:52<00:32, 16.15s/trial, best loss: -0.8473541789127749]"
     ]
    },
    {
     "name": "stderr",
     "output_type": "stream",
     "text": [
      "\u001b[31m2025/05/19 21:00:02 WARNING mlflow.models.model: Model logged without a signature and input example. Please set `input_example` parameter when logging the model to auto infer the model signature.\u001b[0m\n",
      "\n",
      "/home/felipe/miniconda3/envs/mlflow_env/lib/python3.10/site-packages/mlflow/types/utils.py:452: UserWarning: Hint: Inferred schema contains integer column(s). Integer columns in Python cannot represent missing values. If your input data contains missing values at inference time, it will be encoded as floats and will cause a schema enforcement error. The best way to avoid this problem is to infer the model schema based on a realistic data sample (training dataset) that includes missing values. Alternatively, you can declare integer columns as doubles (float64) whenever these columns may have missing values. See `Handling Integers With Missing Values <https://www.mlflow.org/docs/latest/models.html#handling-integers-with-missing-values>`_ for more details.\n",
      "  warnings.warn(\n",
      "\n",
      "Downloading artifacts:   0%|          | 0/5 [00:00<?, ?it/s]\n",
      "Downloading artifacts:  20%|##        | 1/5 [00:00<00:00, 49.77it/s]\n",
      "Downloading artifacts:  40%|####      | 2/5 [00:00<00:00, 47.27it/s]\n",
      "Downloading artifacts:  60%|######    | 3/5 [00:00<00:00, 59.71it/s]\n",
      "Downloading artifacts:  80%|########  | 4/5 [00:00<00:00, 74.88it/s]\n",
      "Downloading artifacts: 100%|##########| 5/5 [00:00<00:00, 85.89it/s]\n",
      "Downloading artifacts: 100%|##########| 5/5 [00:00<00:00, 80.81it/s]\n",
      "/home/felipe/miniconda3/envs/mlflow_env/lib/python3.10/site-packages/mlflow/types/utils.py:452: UserWarning: Hint: Inferred schema contains integer column(s). Integer columns in Python cannot represent missing values. If your input data contains missing values at inference time, it will be encoded as floats and will cause a schema enforcement error. The best way to avoid this problem is to infer the model schema based on a realistic data sample (training dataset) that includes missing values. Alternatively, you can declare integer columns as doubles (float64) whenever these columns may have missing values. See `Handling Integers With Missing Values <https://www.mlflow.org/docs/latest/models.html#handling-integers-with-missing-values>`_ for more details.\n",
      "  warnings.warn(\n",
      "\n",
      "2025/05/19 21:00:06 WARNING mlflow.models.evaluation.evaluators.classifier: According to the evaluation dataset label values, the model type looks like None, but you specified model type 'classifier'. Please verify that you set the `model_type` and `dataset` arguments correctly.\n",
      "\n",
      "2025/05/19 21:00:06 INFO mlflow.models.evaluation.evaluators.classifier: The evaluation dataset is inferred as binary dataset, positive label is 1, negative label is 0.\n",
      "\n",
      "2025/05/19 21:00:06 INFO mlflow.models.evaluation.default_evaluator: Testing metrics on first row...\n",
      "\n",
      "2025/05/19 21:00:08 INFO mlflow.models.evaluation.evaluators.shap: Shap explainer LinearExplainer is used.\n",
      "\n",
      "/home/felipe/miniconda3/envs/mlflow_env/lib/python3.10/site-packages/mlflow/shap/__init__.py:436: UserWarning: Unable to serialize underlying model using MLflow, will use SHAP serialization\n",
      "  warnings.warn(\n",
      "\n",
      "2025/05/19 21:00:08 WARNING mlflow.models.evaluation.evaluators.shap: Logging explainer failed. Reason: AttributeError(\"'LogisticRegression' object has no attribute 'save'\"). Set logging level to DEBUG to see the full traceback.\n",
      "\n",
      "/tmp/ipykernel_1940/1573200106.py:61: FutureWarning: Model validation functionality is moved from `mlflow.evaluate` to the `mlflow.validate_evaluation_results()` API. The `baseline_model` argument will be removed in a future release.\n",
      "  mlflow.evaluate(candidate_model_uri,\n",
      "\n",
      "Downloading artifacts:   0%|          | 0/5 [00:00<?, ?it/s]\n",
      "Downloading artifacts:  20%|##        | 1/5 [00:00<00:00, 34.66it/s]\n",
      "Downloading artifacts:  40%|####      | 2/5 [00:00<00:00, 47.20it/s]\n",
      "Downloading artifacts:  60%|######    | 3/5 [00:00<00:00, 60.98it/s]\n",
      "Downloading artifacts:  80%|########  | 4/5 [00:00<00:00, 55.82it/s]\n",
      "Downloading artifacts: 100%|##########| 5/5 [00:00<00:00, 65.74it/s]\n",
      "Downloading artifacts: 100%|##########| 5/5 [00:00<00:00, 63.22it/s]\n",
      "2025/05/19 21:00:10 WARNING mlflow.models.evaluation.evaluators.classifier: According to the evaluation dataset label values, the model type looks like None, but you specified model type 'classifier'. Please verify that you set the `model_type` and `dataset` arguments correctly.\n",
      "\n",
      "2025/05/19 21:00:10 INFO mlflow.models.evaluation.evaluators.classifier: The evaluation dataset is inferred as binary dataset, positive label is 1, negative label is 0.\n",
      "\n",
      "2025/05/19 21:00:10 INFO mlflow.models.evaluation.default_evaluator: Testing metrics on first row...\n",
      "\n",
      "2025/05/19 21:00:11 WARNING mlflow.models.evaluation.evaluators.shap: Shap evaluation failed. Reason: TypeError(\"The passed model is not callable and cannot be analyzed directly with the given masker! Model: DummyClassifier(strategy='uniform')\"). Set logging level to DEBUG to see the full traceback.\n",
      "\n",
      "2025/05/19 21:00:11 INFO mlflow.models.evaluation.validation: Validating candidate model metrics against baseline\n",
      "\n",
      "2025/05/19 21:00:11 INFO mlflow.models.evaluation.validation: Model validation passed!\n",
      "\n"
     ]
    },
    {
     "name": "stdout",
     "output_type": "stream",
     "text": [
      "🏃 View run with_discretizer_hyperopt at: http://127.0.0.1:5000/#/experiments/1/runs/bb7a798b6bbd46229f1f46174a73ba50\n",
      "\n",
      "🧪 View experiment at: http://127.0.0.1:5000/#/experiments/1                    \n",
      "\n",
      " 80%|████████  | 4/5 [01:02<00:15, 15.26s/trial, best loss: -0.8473541789127749]"
     ]
    },
    {
     "name": "stderr",
     "output_type": "stream",
     "text": [
      "INFO:hyperopt.tpe:build_posterior_wrapper took 0.037081 seconds\n",
      "\n",
      "INFO:hyperopt.tpe:TPE using 4/4 trials with best loss -0.847354\n",
      "\n"
     ]
    },
    {
     "name": "stdout",
     "output_type": "stream",
     "text": [
      "\u001b[2m2025-05-19 21:00:11\u001b[0m [\u001b[32m\u001b[1minfo     \u001b[0m] \u001b[1mPreprocessamento iniciou...   \u001b[0m\n",
      "\u001b[2m2025-05-19 21:00:11\u001b[0m [\u001b[32m\u001b[1minfo     \u001b[0m] \u001b[1mTransformação dos dados com preprocessador iniciou...\u001b[0m\n",
      "\u001b[2m2025-05-19 21:00:11\u001b[0m [\u001b[32m\u001b[1minfo     \u001b[0m] \u001b[1mTransformação dos dados com preprocessador iniciou...\u001b[0m\n",
      "\u001b[2m2025-05-19 21:00:11\u001b[0m [\u001b[32m\u001b[1minfo     \u001b[0m] \u001b[1mIniciou a validação cruzada...\u001b[0m\n",
      " 80%|████████  | 4/5 [01:03<00:15, 15.26s/trial, best loss: -0.8473541789127749]"
     ]
    },
    {
     "name": "stderr",
     "output_type": "stream",
     "text": [
      "/home/felipe/miniconda3/envs/mlflow_env/lib/python3.10/site-packages/sklearn/linear_model/_logistic.py:1247: FutureWarning: 'multi_class' was deprecated in version 1.5 and will be removed in 1.7. From then on, it will always use 'multinomial'. Leave it to its default value to avoid this warning.\n",
      "  warnings.warn(\n",
      "\n",
      "/home/felipe/miniconda3/envs/mlflow_env/lib/python3.10/site-packages/sklearn/linear_model/_logistic.py:1247: FutureWarning: 'multi_class' was deprecated in version 1.5 and will be removed in 1.7. From then on, it will always use 'multinomial'. Leave it to its default value to avoid this warning.\n",
      "  warnings.warn(\n",
      "\n",
      "/home/felipe/miniconda3/envs/mlflow_env/lib/python3.10/site-packages/sklearn/linear_model/_logistic.py:1247: FutureWarning: 'multi_class' was deprecated in version 1.5 and will be removed in 1.7. From then on, it will always use 'multinomial'. Leave it to its default value to avoid this warning.\n",
      "  warnings.warn(\n",
      "\n",
      "/home/felipe/miniconda3/envs/mlflow_env/lib/python3.10/site-packages/sklearn/linear_model/_logistic.py:1247: FutureWarning: 'multi_class' was deprecated in version 1.5 and will be removed in 1.7. From then on, it will always use 'multinomial'. Leave it to its default value to avoid this warning.\n",
      "  warnings.warn(\n",
      "\n",
      "/home/felipe/miniconda3/envs/mlflow_env/lib/python3.10/site-packages/sklearn/linear_model/_logistic.py:1247: FutureWarning: 'multi_class' was deprecated in version 1.5 and will be removed in 1.7. From then on, it will always use 'multinomial'. Leave it to its default value to avoid this warning.\n",
      "  warnings.warn(\n",
      "\n",
      "/home/felipe/miniconda3/envs/mlflow_env/lib/python3.10/site-packages/sklearn/linear_model/_logistic.py:1247: FutureWarning: 'multi_class' was deprecated in version 1.5 and will be removed in 1.7. From then on, it will always use 'multinomial'. Leave it to its default value to avoid this warning.\n",
      "  warnings.warn(\n",
      "\n"
     ]
    },
    {
     "name": "stdout",
     "output_type": "stream",
     "text": [
      "\u001b[2m2025-05-19 21:00:14\u001b[0m [\u001b[32m\u001b[1minfo     \u001b[0m] \u001b[1mIniciou a validação do modelo \u001b[0m\n",
      " 80%|████████  | 4/5 [01:06<00:15, 15.26s/trial, best loss: -0.8473541789127749]"
     ]
    },
    {
     "name": "stderr",
     "output_type": "stream",
     "text": [
      "\u001b[31m2025/05/19 21:00:17 WARNING mlflow.models.model: Model logged without a signature and input example. Please set `input_example` parameter when logging the model to auto infer the model signature.\u001b[0m\n",
      "\n",
      "/home/felipe/miniconda3/envs/mlflow_env/lib/python3.10/site-packages/mlflow/types/utils.py:452: UserWarning: Hint: Inferred schema contains integer column(s). Integer columns in Python cannot represent missing values. If your input data contains missing values at inference time, it will be encoded as floats and will cause a schema enforcement error. The best way to avoid this problem is to infer the model schema based on a realistic data sample (training dataset) that includes missing values. Alternatively, you can declare integer columns as doubles (float64) whenever these columns may have missing values. See `Handling Integers With Missing Values <https://www.mlflow.org/docs/latest/models.html#handling-integers-with-missing-values>`_ for more details.\n",
      "  warnings.warn(\n",
      "\n",
      "Downloading artifacts:   0%|          | 0/5 [00:00<?, ?it/s]\n",
      "Downloading artifacts:  20%|##        | 1/5 [00:00<00:00, 47.07it/s]\n",
      "Downloading artifacts:  40%|####      | 2/5 [00:00<00:00, 70.97it/s]\n",
      "Downloading artifacts:  60%|######    | 3/5 [00:00<00:00, 70.85it/s]\n",
      "Downloading artifacts:  80%|########  | 4/5 [00:00<00:00, 80.06it/s]\n",
      "Downloading artifacts: 100%|##########| 5/5 [00:00<00:00, 95.09it/s]\n",
      "Downloading artifacts: 100%|##########| 5/5 [00:00<00:00, 91.58it/s]\n",
      "/home/felipe/miniconda3/envs/mlflow_env/lib/python3.10/site-packages/mlflow/types/utils.py:452: UserWarning: Hint: Inferred schema contains integer column(s). Integer columns in Python cannot represent missing values. If your input data contains missing values at inference time, it will be encoded as floats and will cause a schema enforcement error. The best way to avoid this problem is to infer the model schema based on a realistic data sample (training dataset) that includes missing values. Alternatively, you can declare integer columns as doubles (float64) whenever these columns may have missing values. See `Handling Integers With Missing Values <https://www.mlflow.org/docs/latest/models.html#handling-integers-with-missing-values>`_ for more details.\n",
      "  warnings.warn(\n",
      "\n",
      "2025/05/19 21:00:22 WARNING mlflow.models.evaluation.evaluators.classifier: According to the evaluation dataset label values, the model type looks like None, but you specified model type 'classifier'. Please verify that you set the `model_type` and `dataset` arguments correctly.\n",
      "\n",
      "2025/05/19 21:00:22 INFO mlflow.models.evaluation.evaluators.classifier: The evaluation dataset is inferred as binary dataset, positive label is 1, negative label is 0.\n",
      "\n",
      "2025/05/19 21:00:22 INFO mlflow.models.evaluation.default_evaluator: Testing metrics on first row...\n",
      "\n",
      "2025/05/19 21:00:23 INFO mlflow.models.evaluation.evaluators.shap: Shap explainer LinearExplainer is used.\n",
      "\n",
      "/home/felipe/miniconda3/envs/mlflow_env/lib/python3.10/site-packages/mlflow/shap/__init__.py:436: UserWarning: Unable to serialize underlying model using MLflow, will use SHAP serialization\n",
      "  warnings.warn(\n",
      "\n",
      "2025/05/19 21:00:23 WARNING mlflow.models.evaluation.evaluators.shap: Logging explainer failed. Reason: AttributeError(\"'LogisticRegression' object has no attribute 'save'\"). Set logging level to DEBUG to see the full traceback.\n",
      "\n",
      "/tmp/ipykernel_1940/1573200106.py:61: FutureWarning: Model validation functionality is moved from `mlflow.evaluate` to the `mlflow.validate_evaluation_results()` API. The `baseline_model` argument will be removed in a future release.\n",
      "  mlflow.evaluate(candidate_model_uri,\n",
      "\n",
      "Downloading artifacts:   0%|          | 0/5 [00:00<?, ?it/s]\n",
      "Downloading artifacts:  20%|##        | 1/5 [00:00<00:00, 31.38it/s]\n",
      "Downloading artifacts:  40%|####      | 2/5 [00:00<00:00, 50.13it/s]\n",
      "Downloading artifacts:  60%|######    | 3/5 [00:00<00:00, 69.65it/s]\n",
      "Downloading artifacts:  80%|########  | 4/5 [00:00<00:00, 84.80it/s]\n",
      "Downloading artifacts: 100%|##########| 5/5 [00:00<00:00, 98.45it/s]\n",
      "Downloading artifacts: 100%|##########| 5/5 [00:00<00:00, 94.06it/s]\n",
      "2025/05/19 21:00:26 WARNING mlflow.models.evaluation.evaluators.classifier: According to the evaluation dataset label values, the model type looks like None, but you specified model type 'classifier'. Please verify that you set the `model_type` and `dataset` arguments correctly.\n",
      "\n",
      "2025/05/19 21:00:26 INFO mlflow.models.evaluation.evaluators.classifier: The evaluation dataset is inferred as binary dataset, positive label is 1, negative label is 0.\n",
      "\n",
      "2025/05/19 21:00:26 INFO mlflow.models.evaluation.default_evaluator: Testing metrics on first row...\n",
      "\n",
      "2025/05/19 21:00:27 WARNING mlflow.models.evaluation.evaluators.shap: Shap evaluation failed. Reason: TypeError(\"The passed model is not callable and cannot be analyzed directly with the given masker! Model: DummyClassifier(strategy='uniform')\"). Set logging level to DEBUG to see the full traceback.\n",
      "\n",
      "2025/05/19 21:00:27 INFO mlflow.models.evaluation.validation: Validating candidate model metrics against baseline\n",
      "\n",
      "2025/05/19 21:00:27 INFO mlflow.models.evaluation.validation: Model validation passed!\n",
      "\n"
     ]
    },
    {
     "name": "stdout",
     "output_type": "stream",
     "text": [
      "🏃 View run with_discretizer_hyperopt at: http://127.0.0.1:5000/#/experiments/1/runs/d3f0332c474948b89f065e2ba588fcd7\n",
      "\n",
      "🧪 View experiment at: http://127.0.0.1:5000/#/experiments/1                    \n",
      "\n",
      "100%|██████████| 5/5 [01:18<00:00, 15.77s/trial, best loss: -0.8473541789127749]\n"
     ]
    },
    {
     "data": {
      "text/plain": [
       "<Figure size 1050x700 with 0 Axes>"
      ]
     },
     "metadata": {},
     "output_type": "display_data"
    }
   ],
   "source": [
    "best_result = fmin(fn=objective, space=search_space, algo=tpe.suggest, max_evals=5)"
   ]
  },
  {
   "cell_type": "code",
   "execution_count": null,
   "id": "2871304c",
   "metadata": {},
   "outputs": [],
   "source": []
  }
 ],
 "metadata": {
  "kernelspec": {
   "display_name": "mlflow_env",
   "language": "python",
   "name": "python3"
  },
  "language_info": {
   "codemirror_mode": {
    "name": "ipython",
    "version": 3
   },
   "file_extension": ".py",
   "mimetype": "text/x-python",
   "name": "python",
   "nbconvert_exporter": "python",
   "pygments_lexer": "ipython3",
   "version": "3.10.12"
  }
 },
 "nbformat": 4,
 "nbformat_minor": 5
}
