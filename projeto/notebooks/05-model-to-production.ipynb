{
 "cells": [
  {
   "cell_type": "markdown",
   "id": "ca2e3e28",
   "metadata": {},
   "source": [
    "# 0. Imports"
   ]
  },
  {
   "cell_type": "code",
   "execution_count": 1,
   "id": "cb288187",
   "metadata": {},
   "outputs": [],
   "source": [
    "import mlflow"
   ]
  },
  {
   "cell_type": "code",
   "execution_count": 2,
   "id": "9f1a1965",
   "metadata": {},
   "outputs": [
    {
     "data": {
      "text/plain": [
       "<Experiment: artifact_location='mlflow-artifacts:/1', creation_time=1747133663728, experiment_id='1', last_update_time=1747133663728, lifecycle_stage='active', name='prob_loan', tags={}>"
      ]
     },
     "execution_count": 2,
     "metadata": {},
     "output_type": "execute_result"
    }
   ],
   "source": [
    "mlflow.set_tracking_uri('http://127.0.0.1:5000')\n",
    "mlflow.set_experiment('prob_loan')"
   ]
  },
  {
   "cell_type": "code",
   "execution_count": 3,
   "id": "55352966",
   "metadata": {},
   "outputs": [],
   "source": [
    "client = mlflow.tracking.MlflowClient()"
   ]
  },
  {
   "cell_type": "markdown",
   "id": "3e5188d1",
   "metadata": {},
   "source": [
    "# 1. Transition Model Stage"
   ]
  },
  {
   "cell_type": "code",
   "execution_count": 4,
   "id": "f7be3b50",
   "metadata": {},
   "outputs": [
    {
     "name": "stderr",
     "output_type": "stream",
     "text": [
      "/tmp/ipykernel_13151/2711654826.py:1: FutureWarning: ``mlflow.tracking.client.MlflowClient.transition_model_version_stage`` is deprecated since 2.9.0. Model registry stages will be removed in a future major release. To learn more about the deprecation of model registry stages, see our migration guide here: https://mlflow.org/docs/latest/model-registry.html#migrating-from-stages\n",
      "  client.transition_model_version_stage(\n"
     ]
    },
    {
     "data": {
      "text/plain": [
       "<ModelVersion: aliases=[], creation_timestamp=1747701121846, current_stage='Production', description='', last_updated_timestamp=1747701847256, name='modelo.joblib', run_id='b2fb981cd68d4f1cbd8bdb34bb5ff733', run_link='', source='mlflow-artifacts:/1/b2fb981cd68d4f1cbd8bdb34bb5ff733/artifacts/modelo.joblib', status='READY', status_message=None, tags={}, user_id='', version='1'>"
      ]
     },
     "execution_count": 4,
     "metadata": {},
     "output_type": "execute_result"
    }
   ],
   "source": [
    "client.transition_model_version_stage(\n",
    "    name='modelo.joblib',\n",
    "    version='1',\n",
    "    stage='Production'\n",
    ")"
   ]
  },
  {
   "cell_type": "markdown",
   "id": "20667af9",
   "metadata": {},
   "source": [
    "# 2. Models Details"
   ]
  },
  {
   "cell_type": "code",
   "execution_count": 5,
   "id": "f07350ca",
   "metadata": {},
   "outputs": [],
   "source": [
    "model_version_details = client.get_model_version(\n",
    "    name='modelo.joblib',\n",
    "    version='1'\n",
    ")"
   ]
  },
  {
   "cell_type": "code",
   "execution_count": 6,
   "id": "18991fa6",
   "metadata": {},
   "outputs": [
    {
     "data": {
      "text/plain": [
       "<ModelVersion: aliases=[], creation_timestamp=1747701121846, current_stage='Production', description='', last_updated_timestamp=1747701847256, name='modelo.joblib', run_id='b2fb981cd68d4f1cbd8bdb34bb5ff733', run_link='', source='mlflow-artifacts:/1/b2fb981cd68d4f1cbd8bdb34bb5ff733/artifacts/modelo.joblib', status='READY', status_message=None, tags={}, user_id='', version='1'>"
      ]
     },
     "execution_count": 6,
     "metadata": {},
     "output_type": "execute_result"
    }
   ],
   "source": [
    "model_version_details"
   ]
  },
  {
   "cell_type": "markdown",
   "id": "b7d03d08",
   "metadata": {},
   "source": [
    "# 3. Get the Latest Version"
   ]
  },
  {
   "cell_type": "code",
   "execution_count": 7,
   "id": "4c165b93",
   "metadata": {},
   "outputs": [
    {
     "name": "stderr",
     "output_type": "stream",
     "text": [
      "/tmp/ipykernel_13151/539734037.py:1: FutureWarning: ``mlflow.tracking.client.MlflowClient.get_latest_versions`` is deprecated since 2.9.0. Model registry stages will be removed in a future major release. To learn more about the deprecation of model registry stages, see our migration guide here: https://mlflow.org/docs/latest/model-registry.html#migrating-from-stages\n",
      "  client.get_latest_versions('modelo.joblib', stages=['Production'])\n"
     ]
    },
    {
     "data": {
      "text/plain": [
       "[<ModelVersion: aliases=[], creation_timestamp=1747701121846, current_stage='Production', description='', last_updated_timestamp=1747701847256, name='modelo.joblib', run_id='b2fb981cd68d4f1cbd8bdb34bb5ff733', run_link='', source='mlflow-artifacts:/1/b2fb981cd68d4f1cbd8bdb34bb5ff733/artifacts/modelo.joblib', status='READY', status_message=None, tags={}, user_id='', version='1'>]"
      ]
     },
     "execution_count": 7,
     "metadata": {},
     "output_type": "execute_result"
    }
   ],
   "source": [
    "client.get_latest_versions('modelo.joblib', stages=['Production'])"
   ]
  },
  {
   "cell_type": "code",
   "execution_count": null,
   "id": "36abd103",
   "metadata": {},
   "outputs": [],
   "source": []
  }
 ],
 "metadata": {
  "kernelspec": {
   "display_name": "mlflow_env",
   "language": "python",
   "name": "python3"
  },
  "language_info": {
   "codemirror_mode": {
    "name": "ipython",
    "version": 3
   },
   "file_extension": ".py",
   "mimetype": "text/x-python",
   "name": "python",
   "nbconvert_exporter": "python",
   "pygments_lexer": "ipython3",
   "version": "3.10.12"
  }
 },
 "nbformat": 4,
 "nbformat_minor": 5
}
