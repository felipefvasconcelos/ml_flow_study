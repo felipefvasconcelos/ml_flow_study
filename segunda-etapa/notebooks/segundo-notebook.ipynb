{
 "cells": [
  {
   "cell_type": "markdown",
   "id": "202320b3",
   "metadata": {},
   "source": [
    "# 0. Imports"
   ]
  },
  {
   "cell_type": "code",
   "execution_count": 1,
   "id": "b1104852",
   "metadata": {},
   "outputs": [],
   "source": [
    "import joblib\n",
    "import pandas as pd\n",
    "\n",
    "import pandera\n",
    "from pandera import Check, Column, DataFrameSchema\n",
    "\n",
    "from feature_engine.imputation import MeanMedianImputer\n",
    "from feature_engine.wrappers import SklearnTransformerWrapper\n",
    "from feature_engine.discretisation import EqualFrequencyDiscretiser, EqualWidthDiscretiser\n",
    "\n",
    "from sklearn.pipeline import Pipeline\n",
    "from sklearn.metrics import roc_auc_score\n",
    "from sklearn.linear_model import LogisticRegression\n",
    "from sklearn.preprocessing import RobustScaler, StandardScaler\n",
    "from sklearn.model_selection import train_test_split\n"
   ]
  },
  {
   "cell_type": "markdown",
   "id": "36503197",
   "metadata": {},
   "source": [
    "## 0.1 Utils"
   ]
  },
  {
   "cell_type": "code",
   "execution_count": 2,
   "id": "42fd96a2",
   "metadata": {},
   "outputs": [],
   "source": [
    "columns_to_use = ['target', 'TaxaDeUtilizacaoDeLinhasNaoGarantidas',\n",
    "       'Idade', 'NumeroDeVezes30-59DiasAtrasoNaoPior', 'TaxaDeEndividamento',\n",
    "       'RendaMensal', 'NumeroDeLinhasDeCreditoEEmprestimosAbertos',\n",
    "       'NumeroDeVezes90DiasAtraso', 'NumeroDeEmprestimosOuLinhasImobiliarias',\n",
    "       'NumeroDeVezes60-89DiasAtrasoNaoPior', 'NumeroDeDependentes']"
   ]
  },
  {
   "cell_type": "markdown",
   "id": "d361d67d",
   "metadata": {},
   "source": [
    "# 1. Data Load"
   ]
  },
  {
   "cell_type": "code",
   "execution_count": 3,
   "id": "0a78d6ae",
   "metadata": {},
   "outputs": [],
   "source": [
    "class DataLoad:\n",
    "    \"\"\"Class data load\"\"\"\n",
    "    def __init__(self) -> None:\n",
    "        pass\n",
    "    def load_data(self) -> pd.DataFrame:\n",
    "        \"\"\"Funcao vai carregar os dados\n",
    "        return:\n",
    "            pandas DataFrame\"\"\"\n",
    "        loaded_data = pd.read_csv('../data/raw/train.csv')\n",
    "        return loaded_data"
   ]
  },
  {
   "cell_type": "code",
   "execution_count": 4,
   "id": "4f2efbfa",
   "metadata": {},
   "outputs": [],
   "source": [
    "dl = DataLoad()\n",
    "df = dl.load_data()[columns_to_use]"
   ]
  },
  {
   "cell_type": "markdown",
   "id": "bc615789",
   "metadata": {},
   "source": [
    "# 2. Data Validation"
   ]
  },
  {
   "cell_type": "code",
   "execution_count": 5,
   "id": "64ff04c3",
   "metadata": {},
   "outputs": [],
   "source": [
    "class DataValidation:\n",
    "    \"\"\"Inserir docstring\"\"\"\n",
    "    def __init__(self, columns_to_use) -> None:\n",
    "        self.columns_to_use = columns_to_use\n",
    "\n",
    "    def check_shape_data(self, dataframe: pd.DataFrame) -> bool:\n",
    "        try:\n",
    "            print('Validacao iniciou')\n",
    "            dataframe.columns = self.columns_to_use\n",
    "            return True\n",
    "        except Exception as e:\n",
    "            print(f'Validacao errou: {e}')\n",
    "            return False\n",
    "        \n",
    "    def check_columns(self, dataframe: pd.DataFrame) -> bool:\n",
    "        schema = DataFrameSchema(\n",
    "            {\n",
    "                'target': Column(int, [Check.isin([0, 1]), Check(lambda x: x>=0)], coerce=True),\n",
    "                'TaxaDeUtilizacaoDeLinhasNaoGarantidas': Column(float, nullable=True),\n",
    "                'Idade': Column(int, nullable=True),\n",
    "                'NumeroDeVezes30-59DiasAtrasoNaoPior': Column(int, nullable=True),\n",
    "                'TaxaDeEndividamento': Column(float, nullable=True),\n",
    "                'RendaMensal': Column(float, nullable=True),\n",
    "                'NumeroDeLinhasDeCreditoEEmprestimosAbertos': Column(int, nullable=True),\n",
    "                'NumeroDeVezes90DiasAtraso': Column(int, nullable=True),\n",
    "                'NumeroDeEmprestimosOuLinhasImobiliarias': Column(int, nullable=True),\n",
    "                'NumeroDeVezes60-89DiasAtrasoNaoPior': Column(int, nullable=True),\n",
    "                'NumeroDeDependentes': Column(float, nullable=True)\n",
    "            }\n",
    "        )\n",
    "        try:\n",
    "            schema.validate(dataframe)\n",
    "            print(\"Validation columns passed...\")\n",
    "            return True\n",
    "        except pandera.errors.SchemaErrors as exc:\n",
    "            print(\"Validation columns failed...\")\n",
    "            pandera.display(exc.failure_cases)\n",
    "            return False\n",
    "\n",
    "    def run(self, dataframe: pd.DataFrame) -> bool:\n",
    "        if self.check_shape_data(dataframe) and self.check_columns(dataframe):\n",
    "            print('Validacao com sucesso.')\n",
    "            return True\n",
    "        else:\n",
    "            print('Validacao falhou.')\n",
    "            return False"
   ]
  },
  {
   "cell_type": "code",
   "execution_count": 6,
   "id": "9fcd80d8",
   "metadata": {},
   "outputs": [],
   "source": [
    "dv = DataValidation(columns_to_use)\n"
   ]
  },
  {
   "cell_type": "code",
   "execution_count": 7,
   "id": "2d49bc11",
   "metadata": {},
   "outputs": [
    {
     "name": "stdout",
     "output_type": "stream",
     "text": [
      "Validacao iniciou\n",
      "Validation columns passed...\n",
      "Validacao com sucesso.\n"
     ]
    },
    {
     "data": {
      "text/plain": [
       "True"
      ]
     },
     "execution_count": 7,
     "metadata": {},
     "output_type": "execute_result"
    }
   ],
   "source": [
    "dv.run(df)"
   ]
  },
  {
   "cell_type": "markdown",
   "id": "f18ecb61",
   "metadata": {},
   "source": [
    "# 3. Data Transformation"
   ]
  },
  {
   "cell_type": "code",
   "execution_count": 8,
   "id": "4f74f306",
   "metadata": {},
   "outputs": [],
   "source": [
    "class DataTransformation:\n",
    "    def __init__(self, dataframe: pd.DataFrame, target_name: str):\n",
    "        self.dataframe = dataframe\n",
    "        self.target_name = target_name\n",
    "\n",
    "    def train_test_spliting(self):\n",
    "        X = self.dataframe.drop(self.target_name, axis=1)\n",
    "        y = self.dataframe[self.target_name]\n",
    "\n",
    "        X_train, X_valid, y_train, y_valid = train_test_split(X, y, stratify=y)\n",
    "\n",
    "        return X_train, X_valid, y_train, y_valid "
   ]
  },
  {
   "cell_type": "code",
   "execution_count": 9,
   "id": "d76420cb",
   "metadata": {},
   "outputs": [],
   "source": [
    "dt = DataTransformation(df, 'target')"
   ]
  },
  {
   "cell_type": "code",
   "execution_count": 10,
   "id": "00580e0d",
   "metadata": {},
   "outputs": [],
   "source": [
    "X_train, X_valid, y_train, y_valid  = dt.train_test_spliting()"
   ]
  },
  {
   "cell_type": "code",
   "execution_count": 11,
   "id": "60c1c349",
   "metadata": {},
   "outputs": [
    {
     "data": {
      "text/plain": [
       "(37500, 10)"
      ]
     },
     "execution_count": 11,
     "metadata": {},
     "output_type": "execute_result"
    }
   ],
   "source": [
    "X_valid.shape"
   ]
  },
  {
   "cell_type": "markdown",
   "id": "8df718cb",
   "metadata": {},
   "source": [
    "# 4. Data Preprocess"
   ]
  },
  {
   "cell_type": "code",
   "execution_count": 12,
   "id": "056193c3",
   "metadata": {},
   "outputs": [],
   "source": [
    "class DataPreprocess:\n",
    "    def __init__(self, dataframe: pd.DataFrame, pipe: Pipeline):\n",
    "        self.dataframe = dataframe\n",
    "        self.pipe = pipe\n",
    "\n",
    "    def pipeline(self):\n",
    "        train_pipe = self.pipe\n",
    "        train_pipe.fit(self.dataframe)\n",
    "        return train_pipe\n",
    "    \n",
    "    def run(self):\n",
    "        print('Preprocessador iniciou...')\n",
    "        trained_pipeline = self.pipeline()\n",
    "        data_preprocessed = trained_pipeline.transform(self.dataframe)\n",
    "        return data_preprocessed"
   ]
  },
  {
   "cell_type": "code",
   "execution_count": 13,
   "id": "73d52243",
   "metadata": {},
   "outputs": [],
   "source": [
    "pipe = Pipeline([\n",
    "    ('imputer', MeanMedianImputer(variables=['RendaMensal', 'NumeroDeDependentes'])),\n",
    "    ('discretizer', EqualFrequencyDiscretiser(variables=['TaxaDeUtilizacaoDeLinhasNaoGarantidas', 'TaxaDeEndividamento', 'RendaMensal'])),\n",
    "    ('scaler', SklearnTransformerWrapper(StandardScaler()))\n",
    "])"
   ]
  },
  {
   "cell_type": "code",
   "execution_count": 14,
   "id": "6cf37c0c",
   "metadata": {},
   "outputs": [],
   "source": [
    "dp = DataPreprocess(X_train, pipe)"
   ]
  },
  {
   "cell_type": "code",
   "execution_count": 15,
   "id": "b3cc5812",
   "metadata": {},
   "outputs": [
    {
     "name": "stdout",
     "output_type": "stream",
     "text": [
      "Preprocessador iniciou...\n"
     ]
    }
   ],
   "source": [
    "X_train_processed = dp.run()"
   ]
  },
  {
   "cell_type": "code",
   "execution_count": 16,
   "id": "9d69e826",
   "metadata": {},
   "outputs": [
    {
     "data": {
      "text/html": [
       "<div>\n",
       "<style scoped>\n",
       "    .dataframe tbody tr th:only-of-type {\n",
       "        vertical-align: middle;\n",
       "    }\n",
       "\n",
       "    .dataframe tbody tr th {\n",
       "        vertical-align: top;\n",
       "    }\n",
       "\n",
       "    .dataframe thead th {\n",
       "        text-align: right;\n",
       "    }\n",
       "</style>\n",
       "<table border=\"1\" class=\"dataframe\">\n",
       "  <thead>\n",
       "    <tr style=\"text-align: right;\">\n",
       "      <th></th>\n",
       "      <th>TaxaDeUtilizacaoDeLinhasNaoGarantidas</th>\n",
       "      <th>Idade</th>\n",
       "      <th>NumeroDeVezes30-59DiasAtrasoNaoPior</th>\n",
       "      <th>TaxaDeEndividamento</th>\n",
       "      <th>RendaMensal</th>\n",
       "      <th>NumeroDeLinhasDeCreditoEEmprestimosAbertos</th>\n",
       "      <th>NumeroDeVezes90DiasAtraso</th>\n",
       "      <th>NumeroDeEmprestimosOuLinhasImobiliarias</th>\n",
       "      <th>NumeroDeVezes60-89DiasAtrasoNaoPior</th>\n",
       "      <th>NumeroDeDependentes</th>\n",
       "    </tr>\n",
       "  </thead>\n",
       "  <tbody>\n",
       "    <tr>\n",
       "      <th>138980</th>\n",
       "      <td>0.174081</td>\n",
       "      <td>-1.035241</td>\n",
       "      <td>-0.099813</td>\n",
       "      <td>-0.870371</td>\n",
       "      <td>1.225682</td>\n",
       "      <td>0.109403</td>\n",
       "      <td>0.171729</td>\n",
       "      <td>-0.015031</td>\n",
       "      <td>-0.058263</td>\n",
       "      <td>-0.667179</td>\n",
       "    </tr>\n",
       "    <tr>\n",
       "      <th>108642</th>\n",
       "      <td>-0.522230</td>\n",
       "      <td>-0.358093</td>\n",
       "      <td>-0.099813</td>\n",
       "      <td>0.522584</td>\n",
       "      <td>0.409132</td>\n",
       "      <td>0.304212</td>\n",
       "      <td>-0.064007</td>\n",
       "      <td>0.879697</td>\n",
       "      <td>-0.058263</td>\n",
       "      <td>-0.667179</td>\n",
       "    </tr>\n",
       "    <tr>\n",
       "      <th>77313</th>\n",
       "      <td>1.566704</td>\n",
       "      <td>1.131633</td>\n",
       "      <td>0.369156</td>\n",
       "      <td>1.567300</td>\n",
       "      <td>0.000856</td>\n",
       "      <td>-0.864643</td>\n",
       "      <td>-0.064007</td>\n",
       "      <td>-0.015031</td>\n",
       "      <td>-0.058263</td>\n",
       "      <td>-0.667179</td>\n",
       "    </tr>\n",
       "    <tr>\n",
       "      <th>22384</th>\n",
       "      <td>1.566704</td>\n",
       "      <td>-1.035241</td>\n",
       "      <td>-0.099813</td>\n",
       "      <td>1.219061</td>\n",
       "      <td>0.000856</td>\n",
       "      <td>-1.449071</td>\n",
       "      <td>0.171729</td>\n",
       "      <td>-0.909760</td>\n",
       "      <td>-0.058263</td>\n",
       "      <td>-0.667179</td>\n",
       "    </tr>\n",
       "    <tr>\n",
       "      <th>120200</th>\n",
       "      <td>-0.870386</td>\n",
       "      <td>-1.576959</td>\n",
       "      <td>-0.099813</td>\n",
       "      <td>1.219061</td>\n",
       "      <td>0.000856</td>\n",
       "      <td>-0.085406</td>\n",
       "      <td>-0.064007</td>\n",
       "      <td>-0.909760</td>\n",
       "      <td>-0.058263</td>\n",
       "      <td>-0.667179</td>\n",
       "    </tr>\n",
       "  </tbody>\n",
       "</table>\n",
       "</div>"
      ],
      "text/plain": [
       "        TaxaDeUtilizacaoDeLinhasNaoGarantidas     Idade  \\\n",
       "138980                               0.174081 -1.035241   \n",
       "108642                              -0.522230 -0.358093   \n",
       "77313                                1.566704  1.131633   \n",
       "22384                                1.566704 -1.035241   \n",
       "120200                              -0.870386 -1.576959   \n",
       "\n",
       "        NumeroDeVezes30-59DiasAtrasoNaoPior  TaxaDeEndividamento  RendaMensal  \\\n",
       "138980                            -0.099813            -0.870371     1.225682   \n",
       "108642                            -0.099813             0.522584     0.409132   \n",
       "77313                              0.369156             1.567300     0.000856   \n",
       "22384                             -0.099813             1.219061     0.000856   \n",
       "120200                            -0.099813             1.219061     0.000856   \n",
       "\n",
       "        NumeroDeLinhasDeCreditoEEmprestimosAbertos  NumeroDeVezes90DiasAtraso  \\\n",
       "138980                                    0.109403                   0.171729   \n",
       "108642                                    0.304212                  -0.064007   \n",
       "77313                                    -0.864643                  -0.064007   \n",
       "22384                                    -1.449071                   0.171729   \n",
       "120200                                   -0.085406                  -0.064007   \n",
       "\n",
       "        NumeroDeEmprestimosOuLinhasImobiliarias  \\\n",
       "138980                                -0.015031   \n",
       "108642                                 0.879697   \n",
       "77313                                 -0.015031   \n",
       "22384                                 -0.909760   \n",
       "120200                                -0.909760   \n",
       "\n",
       "        NumeroDeVezes60-89DiasAtrasoNaoPior  NumeroDeDependentes  \n",
       "138980                            -0.058263            -0.667179  \n",
       "108642                            -0.058263            -0.667179  \n",
       "77313                             -0.058263            -0.667179  \n",
       "22384                             -0.058263            -0.667179  \n",
       "120200                            -0.058263            -0.667179  "
      ]
     },
     "execution_count": 16,
     "metadata": {},
     "output_type": "execute_result"
    }
   ],
   "source": [
    "X_train_processed.head()"
   ]
  },
  {
   "cell_type": "code",
   "execution_count": 17,
   "id": "b2f56c20",
   "metadata": {},
   "outputs": [
    {
     "data": {
      "text/plain": [
       "['preprocessor.joblib']"
      ]
     },
     "execution_count": 17,
     "metadata": {},
     "output_type": "execute_result"
    }
   ],
   "source": [
    "joblib.dump(dp.pipeline(), 'preprocessor.joblib')"
   ]
  },
  {
   "cell_type": "markdown",
   "id": "44ddfec8",
   "metadata": {},
   "source": [
    "# 5. Train Models"
   ]
  },
  {
   "cell_type": "code",
   "execution_count": 18,
   "id": "3c1b2c38",
   "metadata": {},
   "outputs": [],
   "source": [
    "class TrainModels:\n",
    "    def __init__(self, dados_X: pd.DataFrame, dados_y: pd.DataFrame):\n",
    "        self.dados_X = dados_X\n",
    "        self.dados_y = dados_y\n",
    "\n",
    "    def train(self, model):\n",
    "        model.fit(self.dados_X, self.dados_y)\n",
    "        joblib.dump(model, 'modelo.joblib')\n",
    "        return model\n",
    "    \n",
    "    def predict(self, dados_para_prever: pd.DataFrame):\n",
    "        model_fitted = self._load_model()\n",
    "        dados_pred = model_fitted.predict_proba(dados_para_prever)\n",
    "        return dados_pred\n",
    "    \n",
    "    def _load_model(self):\n",
    "        model = joblib.load('modelo.joblib')\n",
    "        return model"
   ]
  },
  {
   "cell_type": "code",
   "execution_count": 19,
   "id": "300a675d",
   "metadata": {},
   "outputs": [],
   "source": [
    "tm = TrainModels(dados_X=X_train_processed, dados_y=y_train)"
   ]
  },
  {
   "cell_type": "code",
   "execution_count": 20,
   "id": "f1663910",
   "metadata": {},
   "outputs": [
    {
     "data": {
      "text/html": [
       "<style>#sk-container-id-1 {\n",
       "  /* Definition of color scheme common for light and dark mode */\n",
       "  --sklearn-color-text: #000;\n",
       "  --sklearn-color-text-muted: #666;\n",
       "  --sklearn-color-line: gray;\n",
       "  /* Definition of color scheme for unfitted estimators */\n",
       "  --sklearn-color-unfitted-level-0: #fff5e6;\n",
       "  --sklearn-color-unfitted-level-1: #f6e4d2;\n",
       "  --sklearn-color-unfitted-level-2: #ffe0b3;\n",
       "  --sklearn-color-unfitted-level-3: chocolate;\n",
       "  /* Definition of color scheme for fitted estimators */\n",
       "  --sklearn-color-fitted-level-0: #f0f8ff;\n",
       "  --sklearn-color-fitted-level-1: #d4ebff;\n",
       "  --sklearn-color-fitted-level-2: #b3dbfd;\n",
       "  --sklearn-color-fitted-level-3: cornflowerblue;\n",
       "\n",
       "  /* Specific color for light theme */\n",
       "  --sklearn-color-text-on-default-background: var(--sg-text-color, var(--theme-code-foreground, var(--jp-content-font-color1, black)));\n",
       "  --sklearn-color-background: var(--sg-background-color, var(--theme-background, var(--jp-layout-color0, white)));\n",
       "  --sklearn-color-border-box: var(--sg-text-color, var(--theme-code-foreground, var(--jp-content-font-color1, black)));\n",
       "  --sklearn-color-icon: #696969;\n",
       "\n",
       "  @media (prefers-color-scheme: dark) {\n",
       "    /* Redefinition of color scheme for dark theme */\n",
       "    --sklearn-color-text-on-default-background: var(--sg-text-color, var(--theme-code-foreground, var(--jp-content-font-color1, white)));\n",
       "    --sklearn-color-background: var(--sg-background-color, var(--theme-background, var(--jp-layout-color0, #111)));\n",
       "    --sklearn-color-border-box: var(--sg-text-color, var(--theme-code-foreground, var(--jp-content-font-color1, white)));\n",
       "    --sklearn-color-icon: #878787;\n",
       "  }\n",
       "}\n",
       "\n",
       "#sk-container-id-1 {\n",
       "  color: var(--sklearn-color-text);\n",
       "}\n",
       "\n",
       "#sk-container-id-1 pre {\n",
       "  padding: 0;\n",
       "}\n",
       "\n",
       "#sk-container-id-1 input.sk-hidden--visually {\n",
       "  border: 0;\n",
       "  clip: rect(1px 1px 1px 1px);\n",
       "  clip: rect(1px, 1px, 1px, 1px);\n",
       "  height: 1px;\n",
       "  margin: -1px;\n",
       "  overflow: hidden;\n",
       "  padding: 0;\n",
       "  position: absolute;\n",
       "  width: 1px;\n",
       "}\n",
       "\n",
       "#sk-container-id-1 div.sk-dashed-wrapped {\n",
       "  border: 1px dashed var(--sklearn-color-line);\n",
       "  margin: 0 0.4em 0.5em 0.4em;\n",
       "  box-sizing: border-box;\n",
       "  padding-bottom: 0.4em;\n",
       "  background-color: var(--sklearn-color-background);\n",
       "}\n",
       "\n",
       "#sk-container-id-1 div.sk-container {\n",
       "  /* jupyter's `normalize.less` sets `[hidden] { display: none; }`\n",
       "     but bootstrap.min.css set `[hidden] { display: none !important; }`\n",
       "     so we also need the `!important` here to be able to override the\n",
       "     default hidden behavior on the sphinx rendered scikit-learn.org.\n",
       "     See: https://github.com/scikit-learn/scikit-learn/issues/21755 */\n",
       "  display: inline-block !important;\n",
       "  position: relative;\n",
       "}\n",
       "\n",
       "#sk-container-id-1 div.sk-text-repr-fallback {\n",
       "  display: none;\n",
       "}\n",
       "\n",
       "div.sk-parallel-item,\n",
       "div.sk-serial,\n",
       "div.sk-item {\n",
       "  /* draw centered vertical line to link estimators */\n",
       "  background-image: linear-gradient(var(--sklearn-color-text-on-default-background), var(--sklearn-color-text-on-default-background));\n",
       "  background-size: 2px 100%;\n",
       "  background-repeat: no-repeat;\n",
       "  background-position: center center;\n",
       "}\n",
       "\n",
       "/* Parallel-specific style estimator block */\n",
       "\n",
       "#sk-container-id-1 div.sk-parallel-item::after {\n",
       "  content: \"\";\n",
       "  width: 100%;\n",
       "  border-bottom: 2px solid var(--sklearn-color-text-on-default-background);\n",
       "  flex-grow: 1;\n",
       "}\n",
       "\n",
       "#sk-container-id-1 div.sk-parallel {\n",
       "  display: flex;\n",
       "  align-items: stretch;\n",
       "  justify-content: center;\n",
       "  background-color: var(--sklearn-color-background);\n",
       "  position: relative;\n",
       "}\n",
       "\n",
       "#sk-container-id-1 div.sk-parallel-item {\n",
       "  display: flex;\n",
       "  flex-direction: column;\n",
       "}\n",
       "\n",
       "#sk-container-id-1 div.sk-parallel-item:first-child::after {\n",
       "  align-self: flex-end;\n",
       "  width: 50%;\n",
       "}\n",
       "\n",
       "#sk-container-id-1 div.sk-parallel-item:last-child::after {\n",
       "  align-self: flex-start;\n",
       "  width: 50%;\n",
       "}\n",
       "\n",
       "#sk-container-id-1 div.sk-parallel-item:only-child::after {\n",
       "  width: 0;\n",
       "}\n",
       "\n",
       "/* Serial-specific style estimator block */\n",
       "\n",
       "#sk-container-id-1 div.sk-serial {\n",
       "  display: flex;\n",
       "  flex-direction: column;\n",
       "  align-items: center;\n",
       "  background-color: var(--sklearn-color-background);\n",
       "  padding-right: 1em;\n",
       "  padding-left: 1em;\n",
       "}\n",
       "\n",
       "\n",
       "/* Toggleable style: style used for estimator/Pipeline/ColumnTransformer box that is\n",
       "clickable and can be expanded/collapsed.\n",
       "- Pipeline and ColumnTransformer use this feature and define the default style\n",
       "- Estimators will overwrite some part of the style using the `sk-estimator` class\n",
       "*/\n",
       "\n",
       "/* Pipeline and ColumnTransformer style (default) */\n",
       "\n",
       "#sk-container-id-1 div.sk-toggleable {\n",
       "  /* Default theme specific background. It is overwritten whether we have a\n",
       "  specific estimator or a Pipeline/ColumnTransformer */\n",
       "  background-color: var(--sklearn-color-background);\n",
       "}\n",
       "\n",
       "/* Toggleable label */\n",
       "#sk-container-id-1 label.sk-toggleable__label {\n",
       "  cursor: pointer;\n",
       "  display: flex;\n",
       "  width: 100%;\n",
       "  margin-bottom: 0;\n",
       "  padding: 0.5em;\n",
       "  box-sizing: border-box;\n",
       "  text-align: center;\n",
       "  align-items: start;\n",
       "  justify-content: space-between;\n",
       "  gap: 0.5em;\n",
       "}\n",
       "\n",
       "#sk-container-id-1 label.sk-toggleable__label .caption {\n",
       "  font-size: 0.6rem;\n",
       "  font-weight: lighter;\n",
       "  color: var(--sklearn-color-text-muted);\n",
       "}\n",
       "\n",
       "#sk-container-id-1 label.sk-toggleable__label-arrow:before {\n",
       "  /* Arrow on the left of the label */\n",
       "  content: \"▸\";\n",
       "  float: left;\n",
       "  margin-right: 0.25em;\n",
       "  color: var(--sklearn-color-icon);\n",
       "}\n",
       "\n",
       "#sk-container-id-1 label.sk-toggleable__label-arrow:hover:before {\n",
       "  color: var(--sklearn-color-text);\n",
       "}\n",
       "\n",
       "/* Toggleable content - dropdown */\n",
       "\n",
       "#sk-container-id-1 div.sk-toggleable__content {\n",
       "  max-height: 0;\n",
       "  max-width: 0;\n",
       "  overflow: hidden;\n",
       "  text-align: left;\n",
       "  /* unfitted */\n",
       "  background-color: var(--sklearn-color-unfitted-level-0);\n",
       "}\n",
       "\n",
       "#sk-container-id-1 div.sk-toggleable__content.fitted {\n",
       "  /* fitted */\n",
       "  background-color: var(--sklearn-color-fitted-level-0);\n",
       "}\n",
       "\n",
       "#sk-container-id-1 div.sk-toggleable__content pre {\n",
       "  margin: 0.2em;\n",
       "  border-radius: 0.25em;\n",
       "  color: var(--sklearn-color-text);\n",
       "  /* unfitted */\n",
       "  background-color: var(--sklearn-color-unfitted-level-0);\n",
       "}\n",
       "\n",
       "#sk-container-id-1 div.sk-toggleable__content.fitted pre {\n",
       "  /* unfitted */\n",
       "  background-color: var(--sklearn-color-fitted-level-0);\n",
       "}\n",
       "\n",
       "#sk-container-id-1 input.sk-toggleable__control:checked~div.sk-toggleable__content {\n",
       "  /* Expand drop-down */\n",
       "  max-height: 200px;\n",
       "  max-width: 100%;\n",
       "  overflow: auto;\n",
       "}\n",
       "\n",
       "#sk-container-id-1 input.sk-toggleable__control:checked~label.sk-toggleable__label-arrow:before {\n",
       "  content: \"▾\";\n",
       "}\n",
       "\n",
       "/* Pipeline/ColumnTransformer-specific style */\n",
       "\n",
       "#sk-container-id-1 div.sk-label input.sk-toggleable__control:checked~label.sk-toggleable__label {\n",
       "  color: var(--sklearn-color-text);\n",
       "  background-color: var(--sklearn-color-unfitted-level-2);\n",
       "}\n",
       "\n",
       "#sk-container-id-1 div.sk-label.fitted input.sk-toggleable__control:checked~label.sk-toggleable__label {\n",
       "  background-color: var(--sklearn-color-fitted-level-2);\n",
       "}\n",
       "\n",
       "/* Estimator-specific style */\n",
       "\n",
       "/* Colorize estimator box */\n",
       "#sk-container-id-1 div.sk-estimator input.sk-toggleable__control:checked~label.sk-toggleable__label {\n",
       "  /* unfitted */\n",
       "  background-color: var(--sklearn-color-unfitted-level-2);\n",
       "}\n",
       "\n",
       "#sk-container-id-1 div.sk-estimator.fitted input.sk-toggleable__control:checked~label.sk-toggleable__label {\n",
       "  /* fitted */\n",
       "  background-color: var(--sklearn-color-fitted-level-2);\n",
       "}\n",
       "\n",
       "#sk-container-id-1 div.sk-label label.sk-toggleable__label,\n",
       "#sk-container-id-1 div.sk-label label {\n",
       "  /* The background is the default theme color */\n",
       "  color: var(--sklearn-color-text-on-default-background);\n",
       "}\n",
       "\n",
       "/* On hover, darken the color of the background */\n",
       "#sk-container-id-1 div.sk-label:hover label.sk-toggleable__label {\n",
       "  color: var(--sklearn-color-text);\n",
       "  background-color: var(--sklearn-color-unfitted-level-2);\n",
       "}\n",
       "\n",
       "/* Label box, darken color on hover, fitted */\n",
       "#sk-container-id-1 div.sk-label.fitted:hover label.sk-toggleable__label.fitted {\n",
       "  color: var(--sklearn-color-text);\n",
       "  background-color: var(--sklearn-color-fitted-level-2);\n",
       "}\n",
       "\n",
       "/* Estimator label */\n",
       "\n",
       "#sk-container-id-1 div.sk-label label {\n",
       "  font-family: monospace;\n",
       "  font-weight: bold;\n",
       "  display: inline-block;\n",
       "  line-height: 1.2em;\n",
       "}\n",
       "\n",
       "#sk-container-id-1 div.sk-label-container {\n",
       "  text-align: center;\n",
       "}\n",
       "\n",
       "/* Estimator-specific */\n",
       "#sk-container-id-1 div.sk-estimator {\n",
       "  font-family: monospace;\n",
       "  border: 1px dotted var(--sklearn-color-border-box);\n",
       "  border-radius: 0.25em;\n",
       "  box-sizing: border-box;\n",
       "  margin-bottom: 0.5em;\n",
       "  /* unfitted */\n",
       "  background-color: var(--sklearn-color-unfitted-level-0);\n",
       "}\n",
       "\n",
       "#sk-container-id-1 div.sk-estimator.fitted {\n",
       "  /* fitted */\n",
       "  background-color: var(--sklearn-color-fitted-level-0);\n",
       "}\n",
       "\n",
       "/* on hover */\n",
       "#sk-container-id-1 div.sk-estimator:hover {\n",
       "  /* unfitted */\n",
       "  background-color: var(--sklearn-color-unfitted-level-2);\n",
       "}\n",
       "\n",
       "#sk-container-id-1 div.sk-estimator.fitted:hover {\n",
       "  /* fitted */\n",
       "  background-color: var(--sklearn-color-fitted-level-2);\n",
       "}\n",
       "\n",
       "/* Specification for estimator info (e.g. \"i\" and \"?\") */\n",
       "\n",
       "/* Common style for \"i\" and \"?\" */\n",
       "\n",
       ".sk-estimator-doc-link,\n",
       "a:link.sk-estimator-doc-link,\n",
       "a:visited.sk-estimator-doc-link {\n",
       "  float: right;\n",
       "  font-size: smaller;\n",
       "  line-height: 1em;\n",
       "  font-family: monospace;\n",
       "  background-color: var(--sklearn-color-background);\n",
       "  border-radius: 1em;\n",
       "  height: 1em;\n",
       "  width: 1em;\n",
       "  text-decoration: none !important;\n",
       "  margin-left: 0.5em;\n",
       "  text-align: center;\n",
       "  /* unfitted */\n",
       "  border: var(--sklearn-color-unfitted-level-1) 1pt solid;\n",
       "  color: var(--sklearn-color-unfitted-level-1);\n",
       "}\n",
       "\n",
       ".sk-estimator-doc-link.fitted,\n",
       "a:link.sk-estimator-doc-link.fitted,\n",
       "a:visited.sk-estimator-doc-link.fitted {\n",
       "  /* fitted */\n",
       "  border: var(--sklearn-color-fitted-level-1) 1pt solid;\n",
       "  color: var(--sklearn-color-fitted-level-1);\n",
       "}\n",
       "\n",
       "/* On hover */\n",
       "div.sk-estimator:hover .sk-estimator-doc-link:hover,\n",
       ".sk-estimator-doc-link:hover,\n",
       "div.sk-label-container:hover .sk-estimator-doc-link:hover,\n",
       ".sk-estimator-doc-link:hover {\n",
       "  /* unfitted */\n",
       "  background-color: var(--sklearn-color-unfitted-level-3);\n",
       "  color: var(--sklearn-color-background);\n",
       "  text-decoration: none;\n",
       "}\n",
       "\n",
       "div.sk-estimator.fitted:hover .sk-estimator-doc-link.fitted:hover,\n",
       ".sk-estimator-doc-link.fitted:hover,\n",
       "div.sk-label-container:hover .sk-estimator-doc-link.fitted:hover,\n",
       ".sk-estimator-doc-link.fitted:hover {\n",
       "  /* fitted */\n",
       "  background-color: var(--sklearn-color-fitted-level-3);\n",
       "  color: var(--sklearn-color-background);\n",
       "  text-decoration: none;\n",
       "}\n",
       "\n",
       "/* Span, style for the box shown on hovering the info icon */\n",
       ".sk-estimator-doc-link span {\n",
       "  display: none;\n",
       "  z-index: 9999;\n",
       "  position: relative;\n",
       "  font-weight: normal;\n",
       "  right: .2ex;\n",
       "  padding: .5ex;\n",
       "  margin: .5ex;\n",
       "  width: min-content;\n",
       "  min-width: 20ex;\n",
       "  max-width: 50ex;\n",
       "  color: var(--sklearn-color-text);\n",
       "  box-shadow: 2pt 2pt 4pt #999;\n",
       "  /* unfitted */\n",
       "  background: var(--sklearn-color-unfitted-level-0);\n",
       "  border: .5pt solid var(--sklearn-color-unfitted-level-3);\n",
       "}\n",
       "\n",
       ".sk-estimator-doc-link.fitted span {\n",
       "  /* fitted */\n",
       "  background: var(--sklearn-color-fitted-level-0);\n",
       "  border: var(--sklearn-color-fitted-level-3);\n",
       "}\n",
       "\n",
       ".sk-estimator-doc-link:hover span {\n",
       "  display: block;\n",
       "}\n",
       "\n",
       "/* \"?\"-specific style due to the `<a>` HTML tag */\n",
       "\n",
       "#sk-container-id-1 a.estimator_doc_link {\n",
       "  float: right;\n",
       "  font-size: 1rem;\n",
       "  line-height: 1em;\n",
       "  font-family: monospace;\n",
       "  background-color: var(--sklearn-color-background);\n",
       "  border-radius: 1rem;\n",
       "  height: 1rem;\n",
       "  width: 1rem;\n",
       "  text-decoration: none;\n",
       "  /* unfitted */\n",
       "  color: var(--sklearn-color-unfitted-level-1);\n",
       "  border: var(--sklearn-color-unfitted-level-1) 1pt solid;\n",
       "}\n",
       "\n",
       "#sk-container-id-1 a.estimator_doc_link.fitted {\n",
       "  /* fitted */\n",
       "  border: var(--sklearn-color-fitted-level-1) 1pt solid;\n",
       "  color: var(--sklearn-color-fitted-level-1);\n",
       "}\n",
       "\n",
       "/* On hover */\n",
       "#sk-container-id-1 a.estimator_doc_link:hover {\n",
       "  /* unfitted */\n",
       "  background-color: var(--sklearn-color-unfitted-level-3);\n",
       "  color: var(--sklearn-color-background);\n",
       "  text-decoration: none;\n",
       "}\n",
       "\n",
       "#sk-container-id-1 a.estimator_doc_link.fitted:hover {\n",
       "  /* fitted */\n",
       "  background-color: var(--sklearn-color-fitted-level-3);\n",
       "}\n",
       "</style><div id=\"sk-container-id-1\" class=\"sk-top-container\"><div class=\"sk-text-repr-fallback\"><pre>LogisticRegression()</pre><b>In a Jupyter environment, please rerun this cell to show the HTML representation or trust the notebook. <br />On GitHub, the HTML representation is unable to render, please try loading this page with nbviewer.org.</b></div><div class=\"sk-container\" hidden><div class=\"sk-item\"><div class=\"sk-estimator fitted sk-toggleable\"><input class=\"sk-toggleable__control sk-hidden--visually\" id=\"sk-estimator-id-1\" type=\"checkbox\" checked><label for=\"sk-estimator-id-1\" class=\"sk-toggleable__label fitted sk-toggleable__label-arrow\"><div><div>LogisticRegression</div></div><div><a class=\"sk-estimator-doc-link fitted\" rel=\"noreferrer\" target=\"_blank\" href=\"https://scikit-learn.org/1.6/modules/generated/sklearn.linear_model.LogisticRegression.html\">?<span>Documentation for LogisticRegression</span></a><span class=\"sk-estimator-doc-link fitted\">i<span>Fitted</span></span></div></label><div class=\"sk-toggleable__content fitted\"><pre>LogisticRegression()</pre></div> </div></div></div></div>"
      ],
      "text/plain": [
       "LogisticRegression()"
      ]
     },
     "execution_count": 20,
     "metadata": {},
     "output_type": "execute_result"
    }
   ],
   "source": [
    "tm.train(model=LogisticRegression())"
   ]
  },
  {
   "cell_type": "code",
   "execution_count": 21,
   "id": "17d0a18c",
   "metadata": {},
   "outputs": [],
   "source": [
    "y_train_pred = tm.predict(X_train_processed)"
   ]
  },
  {
   "cell_type": "code",
   "execution_count": 22,
   "id": "dfab28eb",
   "metadata": {},
   "outputs": [
    {
     "data": {
      "text/plain": [
       "array([[0.94671146, 0.05328854],\n",
       "       [0.97755668, 0.02244332],\n",
       "       [0.80433744, 0.19566256],\n",
       "       ...,\n",
       "       [0.99140277, 0.00859723],\n",
       "       [0.99373376, 0.00626624],\n",
       "       [0.90512493, 0.09487507]], shape=(112500, 2))"
      ]
     },
     "execution_count": 22,
     "metadata": {},
     "output_type": "execute_result"
    }
   ],
   "source": [
    "y_train_pred"
   ]
  },
  {
   "cell_type": "markdown",
   "id": "8bacecbc",
   "metadata": {},
   "source": [
    "# 6. Model Evaluation"
   ]
  },
  {
   "cell_type": "code",
   "execution_count": 24,
   "id": "f7eb9a55",
   "metadata": {},
   "outputs": [],
   "source": [
    "preprocessor = dp.pipeline()"
   ]
  },
  {
   "cell_type": "code",
   "execution_count": 25,
   "id": "4e1abaf3",
   "metadata": {},
   "outputs": [],
   "source": [
    "X_valid_processed = preprocessor.transform(X_valid)"
   ]
  },
  {
   "cell_type": "code",
   "execution_count": 26,
   "id": "5435b20b",
   "metadata": {},
   "outputs": [],
   "source": [
    "y_valid_pred = tm.predict(X_valid_processed)"
   ]
  },
  {
   "cell_type": "code",
   "execution_count": 27,
   "id": "420cc997",
   "metadata": {},
   "outputs": [
    {
     "data": {
      "text/plain": [
       "array([[0.94990305, 0.05009695],\n",
       "       [0.99048843, 0.00951157],\n",
       "       [0.99532164, 0.00467836],\n",
       "       ...,\n",
       "       [0.95825218, 0.04174782],\n",
       "       [0.71278599, 0.28721401],\n",
       "       [0.97365387, 0.02634613]], shape=(37500, 2))"
      ]
     },
     "execution_count": 27,
     "metadata": {},
     "output_type": "execute_result"
    }
   ],
   "source": [
    "y_valid_pred"
   ]
  },
  {
   "cell_type": "code",
   "execution_count": 28,
   "id": "1057dd58",
   "metadata": {},
   "outputs": [],
   "source": [
    "class ModelEvaluation:\n",
    "    def __init__(self):\n",
    "        pass\n",
    "\n",
    "    def eval_metrics(self, dados_reais, dados_preditos):\n",
    "        roc_auc = roc_auc_score(dados_reais, dados_preditos)\n",
    "        return roc_auc"
   ]
  },
  {
   "cell_type": "code",
   "execution_count": 29,
   "id": "eca88623",
   "metadata": {},
   "outputs": [],
   "source": [
    "me = ModelEvaluation()"
   ]
  },
  {
   "cell_type": "code",
   "execution_count": 32,
   "id": "aaa66426",
   "metadata": {},
   "outputs": [
    {
     "data": {
      "text/plain": [
       "np.float64(0.7941589913142681)"
      ]
     },
     "execution_count": 32,
     "metadata": {},
     "output_type": "execute_result"
    }
   ],
   "source": [
    "me.eval_metrics(y_train, y_train_pred[:, 1])"
   ]
  },
  {
   "cell_type": "code",
   "execution_count": 33,
   "id": "bec653cc",
   "metadata": {},
   "outputs": [
    {
     "data": {
      "text/plain": [
       "np.float64(0.7964001199578911)"
      ]
     },
     "execution_count": 33,
     "metadata": {},
     "output_type": "execute_result"
    }
   ],
   "source": [
    "me.eval_metrics(y_valid, y_valid_pred[:, 1])"
   ]
  },
  {
   "cell_type": "markdown",
   "id": "82dd1e2e",
   "metadata": {},
   "source": [
    "# 7. Experiments"
   ]
  },
  {
   "cell_type": "markdown",
   "id": "f5398f99",
   "metadata": {},
   "source": [
    "## 7.1 Experiment #1"
   ]
  },
  {
   "cell_type": "code",
   "execution_count": 47,
   "id": "e8d1ce59",
   "metadata": {},
   "outputs": [
    {
     "name": "stdout",
     "output_type": "stream",
     "text": [
      "Preprocessador iniciou...\n"
     ]
    },
    {
     "data": {
      "text/plain": [
       "np.float64(0.7940526788133527)"
      ]
     },
     "execution_count": 47,
     "metadata": {},
     "output_type": "execute_result"
    }
   ],
   "source": [
    "# 1a etapa\n",
    "pipe = Pipeline([\n",
    "    ('imputer', MeanMedianImputer(variables=['RendaMensal', 'NumeroDeDependentes'])),\n",
    "    ('discretizer', EqualFrequencyDiscretiser(variables=['TaxaDeUtilizacaoDeLinhasNaoGarantidas', 'TaxaDeEndividamento', 'RendaMensal'])),\n",
    "    ('scaler', SklearnTransformerWrapper(RobustScaler()))\n",
    "])\n",
    "dp = DataPreprocess(X_train, pipe)\n",
    "X_train_processed = dp.run()\n",
    "\n",
    "# 2a etapa\n",
    "tm = TrainModels(dados_X=X_train_processed, dados_y=y_train)\n",
    "tm.train(model=LogisticRegression(penalty='l2', max_iter=1500, solver='newton-cholesky'))\n",
    "y_train_pred = tm.predict(X_train_processed)\n",
    "\n",
    "# 3a etapa\n",
    "me = ModelEvaluation()\n",
    "me.eval_metrics(y_train, y_train_pred[:, 1])"
   ]
  },
  {
   "cell_type": "markdown",
   "id": "8c492a63",
   "metadata": {},
   "source": [
    "Continuar aula 23"
   ]
  }
 ],
 "metadata": {
  "kernelspec": {
   "display_name": "mlflow_env",
   "language": "python",
   "name": "python3"
  },
  "language_info": {
   "codemirror_mode": {
    "name": "ipython",
    "version": 3
   },
   "file_extension": ".py",
   "mimetype": "text/x-python",
   "name": "python",
   "nbconvert_exporter": "python",
   "pygments_lexer": "ipython3",
   "version": "3.10.12"
  }
 },
 "nbformat": 4,
 "nbformat_minor": 5
}
